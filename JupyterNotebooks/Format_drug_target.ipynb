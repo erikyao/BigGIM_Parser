{
 "cells": [
  {
   "cell_type": "code",
   "execution_count": 4,
   "id": "fd498342",
   "metadata": {},
   "outputs": [],
   "source": [
    "import pandas as pd"
   ]
  },
  {
   "cell_type": "code",
   "execution_count": 5,
   "id": "1e5e0976",
   "metadata": {},
   "outputs": [],
   "source": [
    "# input data"
   ]
  },
  {
   "cell_type": "code",
   "execution_count": 6,
   "id": "78dfa75f",
   "metadata": {},
   "outputs": [],
   "source": [
    "data = pd.read_csv(\"/Users/guangrong/Documents/GitHub_project/fastqpi_BigGIM/KGs/formated/pubchem_screened_compounds.csv\")"
   ]
  },
  {
   "cell_type": "code",
   "execution_count": 15,
   "id": "cb5aa48b",
   "metadata": {},
   "outputs": [],
   "source": [
    "data_withIDs = data.loc[:,[\"subject_id\",\"subject_name\",\"object_id\",\"Object_symbol\",\"knowledge_source\"]]"
   ]
  },
  {
   "cell_type": "code",
   "execution_count": 16,
   "id": "279f64f2",
   "metadata": {},
   "outputs": [],
   "source": [
    "data_withIDs = data_withIDs.dropna()"
   ]
  },
  {
   "cell_type": "code",
   "execution_count": 18,
   "id": "2ce987e3",
   "metadata": {},
   "outputs": [
    {
     "data": {
      "text/plain": [
       "20"
      ]
     },
     "execution_count": 18,
     "metadata": {},
     "output_type": "execute_result"
    }
   ],
   "source": [
    "(set(data_withIDs['knowledge_source']))"
   ]
  },
  {
   "cell_type": "code",
   "execution_count": 20,
   "id": "4e23665e",
   "metadata": {},
   "outputs": [],
   "source": [
    "data_withIDs['subject_id'] = data_withIDs['subject_id'].astype(int)"
   ]
  },
  {
   "cell_type": "code",
   "execution_count": 21,
   "id": "6900a76c",
   "metadata": {},
   "outputs": [],
   "source": [
    "data_withIDs['object_id'] = data_withIDs['object_id'].astype(int)\n",
    "\n"
   ]
  },
  {
   "cell_type": "code",
   "execution_count": 22,
   "id": "1d28ec28",
   "metadata": {},
   "outputs": [
    {
     "data": {
      "text/html": [
       "<div>\n",
       "<style scoped>\n",
       "    .dataframe tbody tr th:only-of-type {\n",
       "        vertical-align: middle;\n",
       "    }\n",
       "\n",
       "    .dataframe tbody tr th {\n",
       "        vertical-align: top;\n",
       "    }\n",
       "\n",
       "    .dataframe thead th {\n",
       "        text-align: right;\n",
       "    }\n",
       "</style>\n",
       "<table border=\"1\" class=\"dataframe\">\n",
       "  <thead>\n",
       "    <tr style=\"text-align: right;\">\n",
       "      <th></th>\n",
       "      <th>subject_id</th>\n",
       "      <th>subject_name</th>\n",
       "      <th>object_id</th>\n",
       "      <th>Object_symbol</th>\n",
       "      <th>knowledge_source</th>\n",
       "    </tr>\n",
       "  </thead>\n",
       "  <tbody>\n",
       "    <tr>\n",
       "      <th>0</th>\n",
       "      <td>36314</td>\n",
       "      <td>Paclitaxel</td>\n",
       "      <td>596</td>\n",
       "      <td>BCL2</td>\n",
       "      <td>www.cancer.gov/about-cancer/treatment/drugs/ov...</td>\n",
       "    </tr>\n",
       "    <tr>\n",
       "      <th>1</th>\n",
       "      <td>36314</td>\n",
       "      <td>Paclitaxel</td>\n",
       "      <td>4133</td>\n",
       "      <td>MAP2</td>\n",
       "      <td>www.cancer.gov/about-cancer/treatment/drugs/ov...</td>\n",
       "    </tr>\n",
       "    <tr>\n",
       "      <th>2</th>\n",
       "      <td>36314</td>\n",
       "      <td>Paclitaxel</td>\n",
       "      <td>4134</td>\n",
       "      <td>MAP4</td>\n",
       "      <td>www.cancer.gov/about-cancer/treatment/drugs/ov...</td>\n",
       "    </tr>\n",
       "    <tr>\n",
       "      <th>3</th>\n",
       "      <td>36314</td>\n",
       "      <td>Paclitaxel</td>\n",
       "      <td>4137</td>\n",
       "      <td>MAPT</td>\n",
       "      <td>www.cancer.gov/about-cancer/treatment/drugs/ov...</td>\n",
       "    </tr>\n",
       "    <tr>\n",
       "      <th>4</th>\n",
       "      <td>23725625</td>\n",
       "      <td>Olaparib</td>\n",
       "      <td>142</td>\n",
       "      <td>PARP1</td>\n",
       "      <td>www.cancer.gov/about-cancer/treatment/drugs/ov...</td>\n",
       "    </tr>\n",
       "  </tbody>\n",
       "</table>\n",
       "</div>"
      ],
      "text/plain": [
       "   subject_id subject_name  object_id Object_symbol  \\\n",
       "0       36314   Paclitaxel        596          BCL2   \n",
       "1       36314   Paclitaxel       4133          MAP2   \n",
       "2       36314   Paclitaxel       4134          MAP4   \n",
       "3       36314   Paclitaxel       4137          MAPT   \n",
       "4    23725625     Olaparib        142         PARP1   \n",
       "\n",
       "                                    knowledge_source  \n",
       "0  www.cancer.gov/about-cancer/treatment/drugs/ov...  \n",
       "1  www.cancer.gov/about-cancer/treatment/drugs/ov...  \n",
       "2  www.cancer.gov/about-cancer/treatment/drugs/ov...  \n",
       "3  www.cancer.gov/about-cancer/treatment/drugs/ov...  \n",
       "4  www.cancer.gov/about-cancer/treatment/drugs/ov...  "
      ]
     },
     "execution_count": 22,
     "metadata": {},
     "output_type": "execute_result"
    }
   ],
   "source": [
    "data_withIDs.head(5)"
   ]
  },
  {
   "cell_type": "code",
   "execution_count": 25,
   "id": "b34bec2e",
   "metadata": {},
   "outputs": [],
   "source": [
    "Result = pd.DataFrame()\n",
    "Result['subject_id'] = list(data_withIDs['subject_id'])\n",
    "Result['object_id'] = list(data_withIDs['object_id'])\n",
    "\n",
    "Result['subject_id_prefix'] = ['Pubchem.compound'] * len(list(data_withIDs['subject_id']))\n",
    "Result['object_id_prefix'] = 'NCBIGene'\n",
    "\n",
    "Result['subject_name'] = list(data_withIDs['subject_name'])\n",
    "Result['object_name'] = list(data_withIDs['Object_symbol'])\n",
    "\n",
    "Result['predicate'] = 'has_target'\n",
    "\n",
    "Result['subject_category'] = ['SmallMolecule']*len(list(data_withIDs['subject_id']))\n",
    "Result['object_category'] = ['Gene']* len(list(data_withIDs['subject_id']))\n",
    "\n",
    "Result['knowledge_source'] = list(data_withIDs['knowledge_source'])\n"
   ]
  },
  {
   "cell_type": "code",
   "execution_count": 30,
   "id": "e8dbaeb5",
   "metadata": {},
   "outputs": [],
   "source": [
    "OUT = Result.loc[Result['knowledge_source']!=\"Drugbank\"]\n",
    "IN = Result.loc[Result['knowledge_source']==\"Drugbank\"]"
   ]
  },
  {
   "cell_type": "code",
   "execution_count": 36,
   "id": "fafd3a1f",
   "metadata": {},
   "outputs": [],
   "source": [
    "pair_in_drugBank = set(IN['subject_id'] + IN['object_id'])"
   ]
  },
  {
   "cell_type": "code",
   "execution_count": 37,
   "id": "ad54c6ce",
   "metadata": {},
   "outputs": [],
   "source": [
    "pair_out_drugBank = set(OUT['subject_id'] +  OUT['object_id'])"
   ]
  },
  {
   "cell_type": "code",
   "execution_count": 45,
   "id": "8c5e4fb5",
   "metadata": {},
   "outputs": [],
   "source": [
    "OUT.to_csv(\"../Input_Table/Drug_targets_14806.csv\", index = None)"
   ]
  },
  {
   "cell_type": "code",
   "execution_count": 44,
   "id": "545d6b01",
   "metadata": {},
   "outputs": [
    {
     "data": {
      "text/html": [
       "<div>\n",
       "<style scoped>\n",
       "    .dataframe tbody tr th:only-of-type {\n",
       "        vertical-align: middle;\n",
       "    }\n",
       "\n",
       "    .dataframe tbody tr th {\n",
       "        vertical-align: top;\n",
       "    }\n",
       "\n",
       "    .dataframe thead th {\n",
       "        text-align: right;\n",
       "    }\n",
       "</style>\n",
       "<table border=\"1\" class=\"dataframe\">\n",
       "  <thead>\n",
       "    <tr style=\"text-align: right;\">\n",
       "      <th></th>\n",
       "      <th>subject_id</th>\n",
       "      <th>object_id</th>\n",
       "      <th>subject_id_prefix</th>\n",
       "      <th>object_id_prefix</th>\n",
       "      <th>subject_name</th>\n",
       "      <th>object_name</th>\n",
       "      <th>predicate</th>\n",
       "      <th>subject_category</th>\n",
       "      <th>object_category</th>\n",
       "      <th>knowledge_source</th>\n",
       "    </tr>\n",
       "  </thead>\n",
       "  <tbody>\n",
       "    <tr>\n",
       "      <th>0</th>\n",
       "      <td>36314</td>\n",
       "      <td>596</td>\n",
       "      <td>Pubchem.compound</td>\n",
       "      <td>NCBIGene</td>\n",
       "      <td>Paclitaxel</td>\n",
       "      <td>BCL2</td>\n",
       "      <td>has_target</td>\n",
       "      <td>SmallMolecule</td>\n",
       "      <td>Gene</td>\n",
       "      <td>www.cancer.gov/about-cancer/treatment/drugs/ov...</td>\n",
       "    </tr>\n",
       "    <tr>\n",
       "      <th>1</th>\n",
       "      <td>36314</td>\n",
       "      <td>4133</td>\n",
       "      <td>Pubchem.compound</td>\n",
       "      <td>NCBIGene</td>\n",
       "      <td>Paclitaxel</td>\n",
       "      <td>MAP2</td>\n",
       "      <td>has_target</td>\n",
       "      <td>SmallMolecule</td>\n",
       "      <td>Gene</td>\n",
       "      <td>www.cancer.gov/about-cancer/treatment/drugs/ov...</td>\n",
       "    </tr>\n",
       "    <tr>\n",
       "      <th>2</th>\n",
       "      <td>36314</td>\n",
       "      <td>4134</td>\n",
       "      <td>Pubchem.compound</td>\n",
       "      <td>NCBIGene</td>\n",
       "      <td>Paclitaxel</td>\n",
       "      <td>MAP4</td>\n",
       "      <td>has_target</td>\n",
       "      <td>SmallMolecule</td>\n",
       "      <td>Gene</td>\n",
       "      <td>www.cancer.gov/about-cancer/treatment/drugs/ov...</td>\n",
       "    </tr>\n",
       "    <tr>\n",
       "      <th>3</th>\n",
       "      <td>36314</td>\n",
       "      <td>4137</td>\n",
       "      <td>Pubchem.compound</td>\n",
       "      <td>NCBIGene</td>\n",
       "      <td>Paclitaxel</td>\n",
       "      <td>MAPT</td>\n",
       "      <td>has_target</td>\n",
       "      <td>SmallMolecule</td>\n",
       "      <td>Gene</td>\n",
       "      <td>www.cancer.gov/about-cancer/treatment/drugs/ov...</td>\n",
       "    </tr>\n",
       "    <tr>\n",
       "      <th>4</th>\n",
       "      <td>23725625</td>\n",
       "      <td>142</td>\n",
       "      <td>Pubchem.compound</td>\n",
       "      <td>NCBIGene</td>\n",
       "      <td>Olaparib</td>\n",
       "      <td>PARP1</td>\n",
       "      <td>has_target</td>\n",
       "      <td>SmallMolecule</td>\n",
       "      <td>Gene</td>\n",
       "      <td>www.cancer.gov/about-cancer/treatment/drugs/ov...</td>\n",
       "    </tr>\n",
       "    <tr>\n",
       "      <th>...</th>\n",
       "      <td>...</td>\n",
       "      <td>...</td>\n",
       "      <td>...</td>\n",
       "      <td>...</td>\n",
       "      <td>...</td>\n",
       "      <td>...</td>\n",
       "      <td>...</td>\n",
       "      <td>...</td>\n",
       "      <td>...</td>\n",
       "      <td>...</td>\n",
       "    </tr>\n",
       "    <tr>\n",
       "      <th>21052</th>\n",
       "      <td>56599306</td>\n",
       "      <td>5293</td>\n",
       "      <td>Pubchem.compound</td>\n",
       "      <td>NCBIGene</td>\n",
       "      <td>Pilaralisib</td>\n",
       "      <td>PIK3CD</td>\n",
       "      <td>has_target</td>\n",
       "      <td>SmallMolecule</td>\n",
       "      <td>Gene</td>\n",
       "      <td>Selleckchem</td>\n",
       "    </tr>\n",
       "    <tr>\n",
       "      <th>21053</th>\n",
       "      <td>56599306</td>\n",
       "      <td>5290</td>\n",
       "      <td>Pubchem.compound</td>\n",
       "      <td>NCBIGene</td>\n",
       "      <td>Pilaralisib</td>\n",
       "      <td>PIK3CA</td>\n",
       "      <td>has_target</td>\n",
       "      <td>SmallMolecule</td>\n",
       "      <td>Gene</td>\n",
       "      <td>Selleckchem</td>\n",
       "    </tr>\n",
       "    <tr>\n",
       "      <th>21054</th>\n",
       "      <td>56599306</td>\n",
       "      <td>5294</td>\n",
       "      <td>Pubchem.compound</td>\n",
       "      <td>NCBIGene</td>\n",
       "      <td>Pilaralisib</td>\n",
       "      <td>PIK3CG</td>\n",
       "      <td>has_target</td>\n",
       "      <td>SmallMolecule</td>\n",
       "      <td>Gene</td>\n",
       "      <td>Selleckchem</td>\n",
       "    </tr>\n",
       "    <tr>\n",
       "      <th>21055</th>\n",
       "      <td>10366136</td>\n",
       "      <td>5156</td>\n",
       "      <td>Pubchem.compound</td>\n",
       "      <td>NCBIGene</td>\n",
       "      <td>Crenolanib</td>\n",
       "      <td>PDGFRA</td>\n",
       "      <td>has_target</td>\n",
       "      <td>SmallMolecule</td>\n",
       "      <td>Gene</td>\n",
       "      <td>Selleckchem</td>\n",
       "    </tr>\n",
       "    <tr>\n",
       "      <th>21056</th>\n",
       "      <td>10366136</td>\n",
       "      <td>5159</td>\n",
       "      <td>Pubchem.compound</td>\n",
       "      <td>NCBIGene</td>\n",
       "      <td>Crenolanib</td>\n",
       "      <td>PDGFRB</td>\n",
       "      <td>has_target</td>\n",
       "      <td>SmallMolecule</td>\n",
       "      <td>Gene</td>\n",
       "      <td>Selleckchem</td>\n",
       "    </tr>\n",
       "  </tbody>\n",
       "</table>\n",
       "<p>14806 rows × 10 columns</p>\n",
       "</div>"
      ],
      "text/plain": [
       "       subject_id  object_id subject_id_prefix object_id_prefix subject_name  \\\n",
       "0           36314        596  Pubchem.compound         NCBIGene   Paclitaxel   \n",
       "1           36314       4133  Pubchem.compound         NCBIGene   Paclitaxel   \n",
       "2           36314       4134  Pubchem.compound         NCBIGene   Paclitaxel   \n",
       "3           36314       4137  Pubchem.compound         NCBIGene   Paclitaxel   \n",
       "4        23725625        142  Pubchem.compound         NCBIGene     Olaparib   \n",
       "...           ...        ...               ...              ...          ...   \n",
       "21052    56599306       5293  Pubchem.compound         NCBIGene  Pilaralisib   \n",
       "21053    56599306       5290  Pubchem.compound         NCBIGene  Pilaralisib   \n",
       "21054    56599306       5294  Pubchem.compound         NCBIGene  Pilaralisib   \n",
       "21055    10366136       5156  Pubchem.compound         NCBIGene   Crenolanib   \n",
       "21056    10366136       5159  Pubchem.compound         NCBIGene   Crenolanib   \n",
       "\n",
       "      object_name   predicate subject_category object_category  \\\n",
       "0            BCL2  has_target    SmallMolecule            Gene   \n",
       "1            MAP2  has_target    SmallMolecule            Gene   \n",
       "2            MAP4  has_target    SmallMolecule            Gene   \n",
       "3            MAPT  has_target    SmallMolecule            Gene   \n",
       "4           PARP1  has_target    SmallMolecule            Gene   \n",
       "...           ...         ...              ...             ...   \n",
       "21052      PIK3CD  has_target    SmallMolecule            Gene   \n",
       "21053      PIK3CA  has_target    SmallMolecule            Gene   \n",
       "21054      PIK3CG  has_target    SmallMolecule            Gene   \n",
       "21055      PDGFRA  has_target    SmallMolecule            Gene   \n",
       "21056      PDGFRB  has_target    SmallMolecule            Gene   \n",
       "\n",
       "                                        knowledge_source  \n",
       "0      www.cancer.gov/about-cancer/treatment/drugs/ov...  \n",
       "1      www.cancer.gov/about-cancer/treatment/drugs/ov...  \n",
       "2      www.cancer.gov/about-cancer/treatment/drugs/ov...  \n",
       "3      www.cancer.gov/about-cancer/treatment/drugs/ov...  \n",
       "4      www.cancer.gov/about-cancer/treatment/drugs/ov...  \n",
       "...                                                  ...  \n",
       "21052                                        Selleckchem  \n",
       "21053                                        Selleckchem  \n",
       "21054                                        Selleckchem  \n",
       "21055                                        Selleckchem  \n",
       "21056                                        Selleckchem  \n",
       "\n",
       "[14806 rows x 10 columns]"
      ]
     },
     "execution_count": 44,
     "metadata": {},
     "output_type": "execute_result"
    }
   ],
   "source": [
    "OUT"
   ]
  },
  {
   "cell_type": "code",
   "execution_count": 46,
   "id": "df8c0e32",
   "metadata": {},
   "outputs": [
    {
     "data": {
      "text/plain": [
       "{'DrugCentral',\n",
       " 'PMID:22242557',\n",
       " 'PMID:25395429',\n",
       " 'PMID:27502708',\n",
       " 'PMID:28670932',\n",
       " 'PMID:29434255',\n",
       " 'PMID:30341682',\n",
       " 'PMID:31991511',\n",
       " 'PMID:32203698',\n",
       " 'PMID:32315352',\n",
       " 'PMID:\\xa022020205',\n",
       " 'PMID:\\xa031504118',\n",
       " 'Selleckchem',\n",
       " 'TTD_2021',\n",
       " 'www.cancer.gov/about-cancer/treatment/drugs/breast',\n",
       " 'www.cancer.gov/about-cancer/treatment/drugs/head-neck',\n",
       " 'www.cancer.gov/about-cancer/treatment/drugs/leukemia',\n",
       " 'www.cancer.gov/about-cancer/treatment/drugs/lung',\n",
       " 'www.cancer.gov/about-cancer/treatment/drugs/ovarian'}"
      ]
     },
     "execution_count": 46,
     "metadata": {},
     "output_type": "execute_result"
    }
   ],
   "source": [
    "set(OUT['knowledge_source'])"
   ]
  },
  {
   "cell_type": "code",
   "execution_count": null,
   "id": "334a4660",
   "metadata": {},
   "outputs": [],
   "source": []
  }
 ],
 "metadata": {
  "kernelspec": {
   "display_name": "Python 3 (ipykernel)",
   "language": "python",
   "name": "python3"
  },
  "language_info": {
   "codemirror_mode": {
    "name": "ipython",
    "version": 3
   },
   "file_extension": ".py",
   "mimetype": "text/x-python",
   "name": "python",
   "nbconvert_exporter": "python",
   "pygments_lexer": "ipython3",
   "version": "3.10.0"
  }
 },
 "nbformat": 4,
 "nbformat_minor": 5
}
