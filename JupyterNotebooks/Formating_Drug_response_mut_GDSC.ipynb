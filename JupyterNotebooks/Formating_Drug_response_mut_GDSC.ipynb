{
 "cells": [
  {
   "cell_type": "code",
   "execution_count": 87,
   "id": "2377d3d9",
   "metadata": {},
   "outputs": [],
   "source": [
    "#Aug 30, 2022\n",
    "\n",
    "import pandas as pd\n",
    "import numpy as np"
   ]
  },
  {
   "cell_type": "code",
   "execution_count": 88,
   "id": "2272c862",
   "metadata": {},
   "outputs": [],
   "source": [
    "Drug_ID_map = pd.read_csv(\"/Users/guangrong/Documents/GitHub_project/drug_response_kp/Data/GDSC/screened_compunds_rel_8.2 2_withID.csv\")\n"
   ]
  },
  {
   "cell_type": "code",
   "execution_count": 89,
   "id": "426421c6",
   "metadata": {},
   "outputs": [],
   "source": [
    "Drug_ID_map\n",
    "dic_Drug_name_id = {}\n",
    "for i in range(0,Drug_ID_map.shape[0]):\n",
    "    DrugName = Drug_ID_map.iloc[i,2]\n",
    "    ID = Drug_ID_map.iloc[i,7]\n",
    "    if (ID != np.nan ) and type(ID) == str:\n",
    "        dic_Drug_name_id[DrugName] = ID"
   ]
  },
  {
   "cell_type": "code",
   "execution_count": 90,
   "id": "76fc3ac1",
   "metadata": {},
   "outputs": [
    {
     "data": {
      "text/plain": [
       "416"
      ]
     },
     "execution_count": 90,
     "metadata": {},
     "output_type": "execute_result"
    }
   ],
   "source": [
    "len(dic_Drug_name_id)"
   ]
  },
  {
   "cell_type": "code",
   "execution_count": 91,
   "id": "ad46125c",
   "metadata": {},
   "outputs": [],
   "source": [
    "input_dir = \"/Users/guangrong/Documents/GitHub_project/fastqpi_BigGIM/KGs/TCGA_mut/\""
   ]
  },
  {
   "cell_type": "code",
   "execution_count": 92,
   "id": "83075934",
   "metadata": {},
   "outputs": [],
   "source": [
    "#generating a ID mapping dictionary for disease name and mondo ID\n",
    "TCGA_Mondo_map = pd.read_csv(input_dir + \"Mondo_TCGA.csv\")\n",
    "TCGA_Mondo_map\n",
    "dic_mondo_map = {}\n",
    "for i in range(0, TCGA_Mondo_map.shape[0]):\n",
    "    dic_mondo_map['TCGA_' + list(TCGA_Mondo_map['Study Abbreviation'])[i]] = list(TCGA_Mondo_map['MONDO'])[i]\n",
    "    dic_mondo_map['TCGA-' + list(TCGA_Mondo_map['Study Abbreviation'])[i]] = list(TCGA_Mondo_map['MONDO'])[i]\n"
   ]
  },
  {
   "cell_type": "code",
   "execution_count": 93,
   "id": "330921ff",
   "metadata": {},
   "outputs": [],
   "source": [
    "#Generate an ID mapping dictionary for gene symbol and NCBI gene ID\n",
    "ID_map = pd.read_csv(\"/Users/guangrong/Documents/GitHub_project/fastqpi_BigGIM/KGs/ID_convert/Table_ID_convert_9.19.2021.tsv\", sep = '\\t')\n",
    "dic_ID_symbol2ncbi ={}\n",
    "dic_ID_ncbi2symbol = {}\n",
    "import math\n",
    "ID_map.astype(str)\n",
    "for i in range(0,ID_map.shape[0]):\n",
    "    symbol = ID_map['Approved_symbol'][i]\n",
    "    \n",
    "    ncbi_id = ID_map['NCBI_Gene_ID'][i]\n",
    "    ensemble_id = ID_map['Ensembl_gene_ID'][i]\n",
    "    if math.isnan(ncbi_id) == False :\n",
    "        ncbi_id = int(ncbi_id)\n",
    "        if symbol not in dic_ID_symbol2ncbi:\n",
    "            dic_ID_symbol2ncbi[symbol] = ncbi_id\n",
    "        else:\n",
    "            print(symbol)\n",
    "for i in range(0,ID_map.shape[0]):\n",
    "    alias_list = str(ID_map[\"Alias_symbols\"][i]).split(',')\n",
    "    ncbi_id = ID_map['NCBI_Gene_ID'][i]\n",
    "    ensemble_id = ID_map['Ensembl_gene_ID'][i]\n",
    "    if len(alias_list) > 0:\n",
    "        for alias in alias_list:\n",
    "            if alias not in dic_ID_symbol2ncbi:\n",
    "                dic_ID_symbol2ncbi[alias] = ncbi_id\n",
    "dic_ID_symbol2ncbi['MEN1'] = 4221\n",
    "dic_ID_symbol2ncbi['TSC1']= 7248\n",
    "dic_ID_symbol2ncbi['WHSC1'] = 7468\n",
    "dic_ID_symbol2ncbi['MET'] = 4233\n",
    "dic_ID_symbol2ncbi['HIST1H1E'] = 3008\n",
    "dic_ID_symbol2ncbi['FLNA'] = 2316\n",
    "dic_ID_symbol2ncbi[\"FAM46D\"] = 169966\n",
    "dic_ID_symbol2ncbi[\"HIST1H1C\"] = 3006"
   ]
  },
  {
   "cell_type": "code",
   "execution_count": 94,
   "id": "a4c40c5e",
   "metadata": {},
   "outputs": [
    {
     "name": "stderr",
     "output_type": "stream",
     "text": [
      "/Users/guangrong/.pyenv/versions/3.10.0/lib/python3.10/site-packages/openpyxl/worksheet/_reader.py:312: UserWarning: Unknown extension is not supported and will be removed\n",
      "  warn(msg)\n"
     ]
    }
   ],
   "source": [
    "cellLines = pd.read_excel(\"/Users/guangrong/Documents/GitHub_project/drug_response_kp/Data/GDSC/Cell_Lines_Details.xlsx\", sheet_name= \"Cell line details\")"
   ]
  },
  {
   "cell_type": "code",
   "execution_count": 161,
   "id": "aa492ee0",
   "metadata": {},
   "outputs": [
    {
     "data": {
      "text/plain": [
       "{'ACC',\n",
       " 'ALL',\n",
       " 'BLCA',\n",
       " 'BRCA',\n",
       " 'CESC',\n",
       " 'CLL',\n",
       " 'COAD/READ',\n",
       " 'DLBC',\n",
       " 'ESCA',\n",
       " 'GBM',\n",
       " 'HNSC',\n",
       " 'KIRC',\n",
       " 'LAML',\n",
       " 'LCML',\n",
       " 'LGG',\n",
       " 'LIHC',\n",
       " 'LUAD',\n",
       " 'LUSC',\n",
       " 'MB',\n",
       " 'MESO',\n",
       " 'MM',\n",
       " 'NB',\n",
       " 'OV',\n",
       " 'PAAD',\n",
       " 'PRAD',\n",
       " 'SCLC',\n",
       " 'SKCM',\n",
       " 'STAD',\n",
       " 'THCA',\n",
       " 'UCEC',\n",
       " 'UNABLE TO CLASSIFY',\n",
       " nan}"
      ]
     },
     "execution_count": 161,
     "metadata": {},
     "output_type": "execute_result"
    }
   ],
   "source": [
    "set(cellLines['Cancer Type TCGA label'])"
   ]
  },
  {
   "cell_type": "code",
   "execution_count": 95,
   "id": "72c37281",
   "metadata": {},
   "outputs": [],
   "source": [
    "drug_response = pd.read_excel(\"/Users/guangrong/Documents/GitHub_project/drug_response_kp/Data/GDSC/GDSC1_fitted_dose_response_25Feb20.xlsx\")"
   ]
  },
  {
   "cell_type": "code",
   "execution_count": 373,
   "id": "fae54d4e",
   "metadata": {},
   "outputs": [],
   "source": [
    "\n",
    "tumor_type = \"BLCA\"\n",
    "tumor_type = \"BRCA\"\n",
    "tumor_type = \"CESC\"\n",
    "tumor_type = \"DLBC\"\n",
    "tumor_type = \"ESCA\"\n",
    "tumor_type = \"GBM\"\n",
    "tumor_type = \"HNSC\"\n",
    "tumor_type = \"KIRC\"\n",
    "tumor_type = \"LAML\"\n",
    "tumor_type = \"LCML\"\n",
    "tumor_type = \"LGG\"\n",
    "tumor_type = \"LIHC\"\n",
    "tumor_type = \"LUAD\"\n",
    "tumor_type = \"LUSC\"\n",
    "tumor_type = \"MESO\"\n",
    "tumor_type = \"OV\"\n",
    "tumor_type = \"PAAD\"\n",
    "tumor_type = \"PRAD\"\n",
    "tumor_type = \"SKCM\"\n",
    "tumor_type = \"STAD\"\n",
    "tumor_type =\"THCA\"\n",
    "tumor_type = \"UCEC\""
   ]
  },
  {
   "cell_type": "code",
   "execution_count": 374,
   "id": "01ee3316",
   "metadata": {},
   "outputs": [],
   "source": [
    "tumor_type_cellLines = list(cellLines.loc[cellLines['Cancer Type TCGA label'] == tumor_type]['COSMIC identifier'])\n",
    "tumor_specific_drugResponse = drug_response.loc[drug_response['COSMIC_ID'].isin(tumor_type_cellLines)]"
   ]
  },
  {
   "cell_type": "code",
   "execution_count": 375,
   "id": "0f5c9271",
   "metadata": {},
   "outputs": [],
   "source": [
    "sele_drugs = []\n",
    "for drug in set(tumor_specific_drugResponse['DRUG_NAME']):\n",
    "    if tumor_specific_drugResponse.loc[tumor_specific_drugResponse['DRUG_NAME'] == drug].shape[0] >10:\n",
    "        drug_response_curr = tumor_specific_drugResponse.loc[tumor_specific_drugResponse['DRUG_NAME'] == drug]\n",
    "        if drug_response_curr.loc[drug_response_curr['LN_IC50'] < 0].shape[0] > 5:\n",
    "            sele_drugs.append(drug)\n",
    "            "
   ]
  },
  {
   "cell_type": "code",
   "execution_count": 376,
   "id": "621205eb",
   "metadata": {},
   "outputs": [],
   "source": [
    "#sele_drugs\n",
    "DrugResponse_mut = pd.read_csv(\"/Users/guangrong/Documents/GitHub_project/fastqpi_BigGIM/KGs/GeneMutation_based_drug_sensitivity/\"+tumor_type+\"_mut_IC50_GDSC.csv\")\n",
    "DrugResponse_mut_sele = DrugResponse_mut.loc[DrugResponse_mut['Name'].isin(sele_drugs)]\n",
    "DrugResponse_mut_sele = DrugResponse_mut_sele.loc[DrugResponse_mut_sele['pvalue'] < 0.05]"
   ]
  },
  {
   "cell_type": "code",
   "execution_count": 377,
   "id": "80ac6779",
   "metadata": {},
   "outputs": [],
   "source": [
    "subject_name_list = DrugResponse_mut_sele['Gene']\n",
    "object_name_list = DrugResponse_mut_sele['Name']\n",
    "\n",
    "subject_name_list_new = []\n",
    "object_name_list_new = []\n",
    "\n",
    "subject_id_list = []\n",
    "object_id_list = []\n",
    "\n",
    "object_id_prefix = []\n",
    "\n",
    "predicate_list = []\n",
    "\n",
    "supporting_study_size = []\n",
    "\n",
    "P_value_list = []\n",
    "\n",
    "for i in range(0, DrugResponse_mut_sele.shape[0]):\n",
    "    gene = DrugResponse_mut_sele.iloc[i,1]\n",
    "    drug = DrugResponse_mut_sele.iloc[i,4]\n",
    "    es = DrugResponse_mut_sele.iloc[i,7]\n",
    "    mut_samples = DrugResponse_mut_sele.iloc[i,9]\n",
    "    wt_samples = DrugResponse_mut_sele.iloc[i,10]\n",
    "    P = DrugResponse_mut_sele.iloc[i,5]\n",
    "    \n",
    "    if (gene in dic_ID_symbol2ncbi) and (drug in dic_Drug_name_id) and dic_Drug_name_id[drug].startswith(\"PUBCHEM\"):\n",
    "        subject_name_list_new.append(gene)\n",
    "        subject_id_list.append(dic_ID_symbol2ncbi[gene])\n",
    "        object_name_list_new.append(drug)\n",
    "        object_id_list.append(dic_Drug_name_id[drug].split(\":\")[1])\n",
    "        object_id_prefix.append(dic_Drug_name_id[drug].split(\":\")[0])\n",
    "        \n",
    "        if es > 0:\n",
    "            predicate_list.append(\"associated_with_resistance_to\")\n",
    "        else:\n",
    "            predicate_list.append(\"associated_with_sensitivity_to\")\n",
    "        \n",
    "        \n",
    "                \n",
    "        supporting_study_size.append(mut_samples+wt_samples)\n",
    "        \n",
    "        P_value_list.append(P)\n"
   ]
  },
  {
   "cell_type": "code",
   "execution_count": 378,
   "id": "c2ed68c5",
   "metadata": {},
   "outputs": [],
   "source": [
    "Result = pd.DataFrame()\n",
    "Result['subject_id'] = subject_id_list\n",
    "Result['object_id'] = object_id_list\n",
    "Result['subject_id_prefix'] = ['NCBIGene'] * len(subject_id_list)\n",
    "Result['object_id_prefix'] = object_id_prefix\n",
    "Result['subject_name'] = subject_name_list_new\n",
    "Result['object_name'] = object_name_list_new\n",
    "Result['predicate'] = predicate_list\n",
    "Result['Data_set'] = ['GDSC'] * len(subject_id_list)\n",
    "Result['publications'] = [\"PMID:27397505\"]*len(subject_id_list)\n",
    "Result['subject_category'] = ['Gene']*len(subject_id_list)\n",
    "Result['object_category'] = ['SmallMolecule']* len(subject_id_list)\n",
    "Result['statistics_method'] = ['T_test'] * len(object_id_list)\n",
    "Result['supporting_study_size'] = supporting_study_size\n",
    "Result['P_value'] = P_value_list\n",
    "Result['subject_aspect_qualifier'] = \"Genetic variants\"\n",
    "Result['context_qualifier'] = [dic_mondo_map[\"TCGA-\"+tumor_type]]*len(subject_id_list)\n",
    "Result['subject_id'] = Result['subject_id'].astype(int)"
   ]
  },
  {
   "cell_type": "code",
   "execution_count": 379,
   "id": "44505a5c",
   "metadata": {},
   "outputs": [],
   "source": [
    "Result.to_csv(\"../Input_Table/DrugResponse_mut_\"+tumor_type+\".csv\", index = None)"
   ]
  },
  {
   "cell_type": "code",
   "execution_count": null,
   "id": "b969237c",
   "metadata": {},
   "outputs": [],
   "source": []
  },
  {
   "cell_type": "code",
   "execution_count": null,
   "id": "944eab8a",
   "metadata": {},
   "outputs": [],
   "source": []
  },
  {
   "cell_type": "code",
   "execution_count": null,
   "id": "18b3508d",
   "metadata": {},
   "outputs": [],
   "source": []
  }
 ],
 "metadata": {
  "kernelspec": {
   "display_name": "Python 3 (ipykernel)",
   "language": "python",
   "name": "python3"
  },
  "language_info": {
   "codemirror_mode": {
    "name": "ipython",
    "version": 3
   },
   "file_extension": ".py",
   "mimetype": "text/x-python",
   "name": "python",
   "nbconvert_exporter": "python",
   "pygments_lexer": "ipython3",
   "version": "3.10.0"
  }
 },
 "nbformat": 4,
 "nbformat_minor": 5
}
