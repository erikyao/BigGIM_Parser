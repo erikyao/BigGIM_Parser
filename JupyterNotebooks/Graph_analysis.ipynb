{
 "cells": [
  {
   "cell_type": "code",
   "execution_count": 1,
   "id": "04500b1a",
   "metadata": {},
   "outputs": [],
   "source": [
    "import json\n",
    "import sys\n",
    "sys.path.append(\"../src/\") \n",
    "sys.path.append(\"../\") \n",
    "\n",
    "import BigGIM_Parser\n",
    "from BigGIM_Parser import * \n",
    "import os"
   ]
  },
  {
   "cell_type": "code",
   "execution_count": 2,
   "id": "7fa005df",
   "metadata": {},
   "outputs": [],
   "source": [
    "def load_nodes_dic():\n",
    "    dic_node = {}\n",
    "    filenames = [\"../Input_Table/Biogrid_formated.csv\",\n",
    "                 \"../Input_Table/Drug_targets_14806.csv\",\n",
    "                 \"../Input_Table/HuRI_formated.csv\"]\n",
    "    for file in filenames:\n",
    "        for row in load_tsv_data(file):\n",
    "            n1 = row['subject']['name']\n",
    "            n2 = row['object']['name']            \n",
    "            if n1 != n2:\n",
    "                if n1 not in dic_node:\n",
    "                    dic_node[n1] = set([n2])\n",
    "                else:\n",
    "                    dic_node[n1].add(n2)\n",
    "\n",
    "\n",
    "                if n2 not in dic_node:\n",
    "                    dic_node[n2] = set([n1])\n",
    "                else: \n",
    "                    dic_node[n2].add(n1)\n",
    "\n",
    "    return(dic_node)\n",
    "\n"
   ]
  },
  {
   "cell_type": "code",
   "execution_count": 35,
   "id": "e27f7871",
   "metadata": {},
   "outputs": [],
   "source": [
    "#Function 1: find the shortest distance pathway among two entities\n",
    "\n",
    "\n",
    "def find_all_paths(dic_node,N1,N2,step_threshod):\n",
    "    return_paths = []\n",
    "    Queues = [[N1]]\n",
    "    mark_break = False\n",
    "    while len(Queues):\n",
    "        cur_path = Queues.pop(0)\n",
    "        if len(cur_path) >= step_threshod:\n",
    "            break\n",
    "        cur = cur_path[-1]\n",
    "        if cur in dic_node:\n",
    "            for node2 in dic_node[cur]:\n",
    "                if node2 == N2:\n",
    "                    return_paths.append(cur_path + [node2,])\n",
    "                    step_threshod = len(cur_path) + 1\n",
    "                    #mark_break = True\n",
    "                else:\n",
    "                    Queues.append(cur_path + [node2,] )\n",
    "                    \n",
    "    return return_paths"
   ]
  },
  {
   "cell_type": "code",
   "execution_count": 36,
   "id": "0426afd5",
   "metadata": {},
   "outputs": [],
   "source": [
    "#___main__\n",
    "dic_node = load_nodes_dic()\n"
   ]
  },
  {
   "cell_type": "code",
   "execution_count": 37,
   "id": "301022de",
   "metadata": {},
   "outputs": [
    {
     "data": {
      "text/plain": [
       "[['FLT3', 'BRCA1', 'BCL2'],\n",
       " ['FLT3', 'HSP90AA1', 'BCL2'],\n",
       " ['FLT3', 'IKBKG', 'BCL2']]"
      ]
     },
     "execution_count": 37,
     "metadata": {},
     "output_type": "execute_result"
    }
   ],
   "source": [
    "#print(\"==========\")\n",
    "\n",
    "find_all_paths(dic_node,\"FLT3\",\"BCL2\",5)"
   ]
  },
  {
   "cell_type": "code",
   "execution_count": null,
   "id": "82752cf2",
   "metadata": {},
   "outputs": [],
   "source": []
  }
 ],
 "metadata": {
  "kernelspec": {
   "display_name": "Python 3 (ipykernel)",
   "language": "python",
   "name": "python3"
  },
  "language_info": {
   "codemirror_mode": {
    "name": "ipython",
    "version": 3
   },
   "file_extension": ".py",
   "mimetype": "text/x-python",
   "name": "python",
   "nbconvert_exporter": "python",
   "pygments_lexer": "ipython3",
   "version": "3.10.0"
  }
 },
 "nbformat": 4,
 "nbformat_minor": 5
}
