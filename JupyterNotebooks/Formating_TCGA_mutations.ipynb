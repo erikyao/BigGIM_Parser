{
 "cells": [
  {
   "cell_type": "code",
   "execution_count": 1,
   "id": "9cea720e",
   "metadata": {},
   "outputs": [],
   "source": [
    "import pandas as pd\n",
    "import requests"
   ]
  },
  {
   "cell_type": "code",
   "execution_count": 2,
   "id": "63fa2000",
   "metadata": {},
   "outputs": [],
   "source": [
    "input_dir = \"/Users/guangrong/Documents/GitHub_project/fastqpi_BigGIM/KGs/TCGA_mut/\""
   ]
  },
  {
   "cell_type": "code",
   "execution_count": 3,
   "id": "cd68cbe7",
   "metadata": {},
   "outputs": [],
   "source": [
    "# Mondo reference: https://raw.githubusercontent.com/monarch-initiative/mondo/master/reports/release/semantic-xref-pairs.tsv\""
   ]
  },
  {
   "cell_type": "code",
   "execution_count": 4,
   "id": "4d58aa64",
   "metadata": {},
   "outputs": [],
   "source": [
    "#generating a ID mapping dictionary for disease name and mondo ID\n",
    "TCGA_Mondo_map = pd.read_csv(input_dir + \"Mondo_TCGA.csv\")\n",
    "TCGA_Mondo_map\n",
    "dic_mondo_map = {}\n",
    "for i in range(0, TCGA_Mondo_map.shape[0]):\n",
    "    dic_mondo_map['TCGA_' + list(TCGA_Mondo_map['Study Abbreviation'])[i]] = list(TCGA_Mondo_map['MONDO'])[i]\n",
    "    dic_mondo_map['TCGA-' + list(TCGA_Mondo_map['Study Abbreviation'])[i]] = list(TCGA_Mondo_map['MONDO'])[i]\n"
   ]
  },
  {
   "cell_type": "code",
   "execution_count": 5,
   "id": "386a8d5e",
   "metadata": {},
   "outputs": [],
   "source": [
    "#Generate an ID mapping dictionary for gene symbol and NCBI gene ID\n",
    "ID_map = pd.read_csv(\"/Users/guangrong/Documents/GitHub_project/fastqpi_BigGIM/KGs/ID_convert/Table_ID_convert_9.19.2021.tsv\", sep = '\\t')\n",
    "dic_ID_symbol2ncbi ={}\n",
    "dic_ID_ncbi2symbol = {}\n",
    "import math\n",
    "ID_map.astype(str)\n",
    "for i in range(0,ID_map.shape[0]):\n",
    "    symbol = ID_map['Approved_symbol'][i]\n",
    "    \n",
    "    ncbi_id = ID_map['NCBI_Gene_ID'][i]\n",
    "    ensemble_id = ID_map['Ensembl_gene_ID'][i]\n",
    "    if math.isnan(ncbi_id) == False :\n",
    "        ncbi_id = int(ncbi_id)\n",
    "        if symbol not in dic_ID_symbol2ncbi:\n",
    "            dic_ID_symbol2ncbi[symbol] = ncbi_id\n",
    "        else:\n",
    "            print(symbol)\n",
    "for i in range(0,ID_map.shape[0]):\n",
    "    alias_list = str(ID_map[\"Alias_symbols\"][i]).split(',')\n",
    "    ncbi_id = ID_map['NCBI_Gene_ID'][i]\n",
    "    ensemble_id = ID_map['Ensembl_gene_ID'][i]\n",
    "    if len(alias_list) > 0:\n",
    "        for alias in alias_list:\n",
    "            if alias not in dic_ID_symbol2ncbi:\n",
    "                dic_ID_symbol2ncbi[alias] = ncbi_id\n",
    "dic_ID_symbol2ncbi['MEN1'] = 4221\n",
    "dic_ID_symbol2ncbi['TSC1']= 7248\n",
    "dic_ID_symbol2ncbi['WHSC1'] = 7468\n",
    "dic_ID_symbol2ncbi['MET'] = 4233\n",
    "dic_ID_symbol2ncbi['HIST1H1E'] = 3008\n",
    "dic_ID_symbol2ncbi['FLNA'] = 2316\n",
    "dic_ID_symbol2ncbi[\"FAM46D\"] = 169966\n",
    "dic_ID_symbol2ncbi[\"HIST1H1C\"] = 3006"
   ]
  },
  {
   "cell_type": "code",
   "execution_count": 6,
   "id": "45ebad92",
   "metadata": {},
   "outputs": [],
   "source": [
    "input_dir = \"/Users/guangrong/Documents/GitHub_project/fastqpi_BigGIM/KGs/TCGA_mut/\""
   ]
  },
  {
   "cell_type": "code",
   "execution_count": 7,
   "id": "c00ca003",
   "metadata": {},
   "outputs": [],
   "source": [
    "# Load TCGA_mutation_frequency data and filtering\n",
    "df = pd.read_excel(input_dir+\"TCGA_Mut_Freq.xlsx\")\n",
    "df_high_freq = df.loc[df['frequency_qualifier'] > 0.05]\n",
    "df_high_freq = df_high_freq.loc[df_high_freq['has_count'] >= 5]"
   ]
  },
  {
   "cell_type": "code",
   "execution_count": 8,
   "id": "e1e12600",
   "metadata": {},
   "outputs": [],
   "source": [
    "# Filter genes from the literature reported driver genes\n",
    "cancer_drivers = pd.read_csv(input_dir + \"cancer_drivers_PMID_29625053.csv\") # supplemental tablefrom PMID_29625053\n",
    "driver_tcga_freq =  df_high_freq.loc[df_high_freq['subject_name'].isin(cancer_drivers['Gene'])]"
   ]
  },
  {
   "cell_type": "code",
   "execution_count": 9,
   "id": "11688bba",
   "metadata": {},
   "outputs": [],
   "source": [
    "# Formating columns"
   ]
  },
  {
   "cell_type": "code",
   "execution_count": 10,
   "id": "a0673371",
   "metadata": {},
   "outputs": [
    {
     "name": "stderr",
     "output_type": "stream",
     "text": [
      "/var/folders/w1/p1v0w3j165ggfdk4xpn0tzgh0000gp/T/ipykernel_84617/23269610.py:1: SettingWithCopyWarning: \n",
      "A value is trying to be set on a copy of a slice from a DataFrame.\n",
      "Try using .loc[row_indexer,col_indexer] = value instead\n",
      "\n",
      "See the caveats in the documentation: https://pandas.pydata.org/pandas-docs/stable/user_guide/indexing.html#returning-a-view-versus-a-copy\n",
      "  driver_tcga_freq['subject_category'] = ['Gene'] * driver_tcga_freq.shape[0]\n"
     ]
    }
   ],
   "source": [
    "driver_tcga_freq['subject_category'] = ['Gene'] * driver_tcga_freq.shape[0]"
   ]
  },
  {
   "cell_type": "code",
   "execution_count": 11,
   "id": "47a126a0",
   "metadata": {},
   "outputs": [
    {
     "name": "stderr",
     "output_type": "stream",
     "text": [
      "/var/folders/w1/p1v0w3j165ggfdk4xpn0tzgh0000gp/T/ipykernel_84617/3421882735.py:1: SettingWithCopyWarning: \n",
      "A value is trying to be set on a copy of a slice from a DataFrame.\n",
      "Try using .loc[row_indexer,col_indexer] = value instead\n",
      "\n",
      "See the caveats in the documentation: https://pandas.pydata.org/pandas-docs/stable/user_guide/indexing.html#returning-a-view-versus-a-copy\n",
      "  driver_tcga_freq['subject_id_prefix'] = ['NCBIGene'] * driver_tcga_freq.shape[0]\n"
     ]
    }
   ],
   "source": [
    "driver_tcga_freq['subject_id_prefix'] = ['NCBIGene'] * driver_tcga_freq.shape[0]"
   ]
  },
  {
   "cell_type": "code",
   "execution_count": 12,
   "id": "f323db33",
   "metadata": {},
   "outputs": [
    {
     "name": "stderr",
     "output_type": "stream",
     "text": [
      "/var/folders/w1/p1v0w3j165ggfdk4xpn0tzgh0000gp/T/ipykernel_84617/4081730457.py:1: SettingWithCopyWarning: \n",
      "A value is trying to be set on a copy of a slice from a DataFrame.\n",
      "Try using .loc[row_indexer,col_indexer] = value instead\n",
      "\n",
      "See the caveats in the documentation: https://pandas.pydata.org/pandas-docs/stable/user_guide/indexing.html#returning-a-view-versus-a-copy\n",
      "  driver_tcga_freq['object_category'] = \"Disease\"\n"
     ]
    }
   ],
   "source": [
    "driver_tcga_freq['object_category'] = \"Disease\""
   ]
  },
  {
   "cell_type": "code",
   "execution_count": 13,
   "id": "0f583b50",
   "metadata": {},
   "outputs": [
    {
     "name": "stderr",
     "output_type": "stream",
     "text": [
      "/var/folders/w1/p1v0w3j165ggfdk4xpn0tzgh0000gp/T/ipykernel_84617/2049567035.py:1: SettingWithCopyWarning: \n",
      "A value is trying to be set on a copy of a slice from a DataFrame.\n",
      "Try using .loc[row_indexer,col_indexer] = value instead\n",
      "\n",
      "See the caveats in the documentation: https://pandas.pydata.org/pandas-docs/stable/user_guide/indexing.html#returning-a-view-versus-a-copy\n",
      "  driver_tcga_freq['object_id_prefix'] = \"MONDO\"\n"
     ]
    }
   ],
   "source": [
    "driver_tcga_freq['object_id_prefix'] = \"MONDO\""
   ]
  },
  {
   "cell_type": "code",
   "execution_count": 14,
   "id": "c3409699",
   "metadata": {},
   "outputs": [
    {
     "name": "stderr",
     "output_type": "stream",
     "text": [
      "/var/folders/w1/p1v0w3j165ggfdk4xpn0tzgh0000gp/T/ipykernel_84617/4143724263.py:1: SettingWithCopyWarning: \n",
      "A value is trying to be set on a copy of a slice from a DataFrame.\n",
      "Try using .loc[row_indexer,col_indexer] = value instead\n",
      "\n",
      "See the caveats in the documentation: https://pandas.pydata.org/pandas-docs/stable/user_guide/indexing.html#returning-a-view-versus-a-copy\n",
      "  driver_tcga_freq['predicate'] = \"gene_associated_with_condition\"\n"
     ]
    }
   ],
   "source": [
    "driver_tcga_freq['predicate'] = \"gene_associated_with_condition\""
   ]
  },
  {
   "cell_type": "code",
   "execution_count": 15,
   "id": "ac0e02a6",
   "metadata": {},
   "outputs": [
    {
     "name": "stderr",
     "output_type": "stream",
     "text": [
      "/var/folders/w1/p1v0w3j165ggfdk4xpn0tzgh0000gp/T/ipykernel_84617/76024736.py:1: SettingWithCopyWarning: \n",
      "A value is trying to be set on a copy of a slice from a DataFrame.\n",
      "Try using .loc[row_indexer,col_indexer] = value instead\n",
      "\n",
      "See the caveats in the documentation: https://pandas.pydata.org/pandas-docs/stable/user_guide/indexing.html#returning-a-view-versus-a-copy\n",
      "  driver_tcga_freq['subject_aspect_qualifier'] = \"Mutation\"\n"
     ]
    }
   ],
   "source": [
    "driver_tcga_freq['subject_aspect_qualifier'] = \"Mutation\""
   ]
  },
  {
   "cell_type": "code",
   "execution_count": 16,
   "id": "94df29a3",
   "metadata": {},
   "outputs": [
    {
     "name": "stderr",
     "output_type": "stream",
     "text": [
      "/var/folders/w1/p1v0w3j165ggfdk4xpn0tzgh0000gp/T/ipykernel_84617/2592182837.py:1: SettingWithCopyWarning: \n",
      "A value is trying to be set on a copy of a slice from a DataFrame.\n",
      "Try using .loc[row_indexer,col_indexer] = value instead\n",
      "\n",
      "See the caveats in the documentation: https://pandas.pydata.org/pandas-docs/stable/user_guide/indexing.html#returning-a-view-versus-a-copy\n",
      "  driver_tcga_freq['supporting_study_cohort'] = \"TCGA\"\n"
     ]
    }
   ],
   "source": [
    "driver_tcga_freq['supporting_study_cohort'] = \"TCGA\""
   ]
  },
  {
   "cell_type": "code",
   "execution_count": 17,
   "id": "9293e601",
   "metadata": {},
   "outputs": [
    {
     "name": "stderr",
     "output_type": "stream",
     "text": [
      "/var/folders/w1/p1v0w3j165ggfdk4xpn0tzgh0000gp/T/ipykernel_84617/2287823909.py:5: SettingWithCopyWarning: \n",
      "A value is trying to be set on a copy of a slice from a DataFrame.\n",
      "Try using .loc[row_indexer,col_indexer] = value instead\n",
      "\n",
      "See the caveats in the documentation: https://pandas.pydata.org/pandas-docs/stable/user_guide/indexing.html#returning-a-view-versus-a-copy\n",
      "  driver_tcga_freq['object_id'] = object_id_list\n"
     ]
    }
   ],
   "source": [
    "object_id_list = []\n",
    "for i in range(0,driver_tcga_freq.shape[0] ):\n",
    "    object_id_list.append(dic_mondo_map[list(driver_tcga_freq[\"object_name\"])[i]])\n",
    "    \n",
    "driver_tcga_freq['object_id'] = object_id_list"
   ]
  },
  {
   "cell_type": "code",
   "execution_count": 18,
   "id": "d30d1635",
   "metadata": {},
   "outputs": [
    {
     "name": "stderr",
     "output_type": "stream",
     "text": [
      "/var/folders/w1/p1v0w3j165ggfdk4xpn0tzgh0000gp/T/ipykernel_84617/2374070043.py:6: SettingWithCopyWarning: \n",
      "A value is trying to be set on a copy of a slice from a DataFrame.\n",
      "Try using .loc[row_indexer,col_indexer] = value instead\n",
      "\n",
      "See the caveats in the documentation: https://pandas.pydata.org/pandas-docs/stable/user_guide/indexing.html#returning-a-view-versus-a-copy\n",
      "  driver_tcga_freq['subject_id'] = subject_id_list\n"
     ]
    }
   ],
   "source": [
    "subject_id_list = []\n",
    "for i in range(0,driver_tcga_freq.shape[0]):\n",
    "    \n",
    "    subject_id_list.append(dic_ID_symbol2ncbi[list(driver_tcga_freq['subject_name'])[i]])\n",
    "\n",
    "driver_tcga_freq['subject_id'] = subject_id_list"
   ]
  },
  {
   "cell_type": "code",
   "execution_count": 19,
   "id": "e11b484a",
   "metadata": {},
   "outputs": [
    {
     "data": {
      "text/html": [
       "<div>\n",
       "<style scoped>\n",
       "    .dataframe tbody tr th:only-of-type {\n",
       "        vertical-align: middle;\n",
       "    }\n",
       "\n",
       "    .dataframe tbody tr th {\n",
       "        vertical-align: top;\n",
       "    }\n",
       "\n",
       "    .dataframe thead th {\n",
       "        text-align: right;\n",
       "    }\n",
       "</style>\n",
       "<table border=\"1\" class=\"dataframe\">\n",
       "  <thead>\n",
       "    <tr style=\"text-align: right;\">\n",
       "      <th></th>\n",
       "      <th>subject_name</th>\n",
       "      <th>subject_id</th>\n",
       "      <th>subject_category</th>\n",
       "      <th>subject_id_prefix</th>\n",
       "      <th>object_name</th>\n",
       "      <th>object_id</th>\n",
       "      <th>object_category</th>\n",
       "      <th>object_id_prefix</th>\n",
       "      <th>predicate</th>\n",
       "      <th>frequency_qualifier</th>\n",
       "      <th>subject_aspect_qualifier</th>\n",
       "      <th>has_count</th>\n",
       "      <th>supporting_study_cohort</th>\n",
       "    </tr>\n",
       "  </thead>\n",
       "  <tbody>\n",
       "    <tr>\n",
       "      <th>0</th>\n",
       "      <td>TP53</td>\n",
       "      <td>7157</td>\n",
       "      <td>Gene</td>\n",
       "      <td>NCBIGene</td>\n",
       "      <td>TCGA-ACC</td>\n",
       "      <td>MONDO:0008734</td>\n",
       "      <td>Disease</td>\n",
       "      <td>MONDO</td>\n",
       "      <td>gene_associated_with_condition</td>\n",
       "      <td>0.184783</td>\n",
       "      <td>Mutation</td>\n",
       "      <td>17</td>\n",
       "      <td>TCGA</td>\n",
       "    </tr>\n",
       "    <tr>\n",
       "      <th>2</th>\n",
       "      <td>CTNNB1</td>\n",
       "      <td>1499</td>\n",
       "      <td>Gene</td>\n",
       "      <td>NCBIGene</td>\n",
       "      <td>TCGA-ACC</td>\n",
       "      <td>MONDO:0008734</td>\n",
       "      <td>Disease</td>\n",
       "      <td>MONDO</td>\n",
       "      <td>gene_associated_with_condition</td>\n",
       "      <td>0.152174</td>\n",
       "      <td>Mutation</td>\n",
       "      <td>14</td>\n",
       "      <td>TCGA</td>\n",
       "    </tr>\n",
       "    <tr>\n",
       "      <th>10</th>\n",
       "      <td>MEN1</td>\n",
       "      <td>4221</td>\n",
       "      <td>Gene</td>\n",
       "      <td>NCBIGene</td>\n",
       "      <td>TCGA-ACC</td>\n",
       "      <td>MONDO:0008734</td>\n",
       "      <td>Disease</td>\n",
       "      <td>MONDO</td>\n",
       "      <td>gene_associated_with_condition</td>\n",
       "      <td>0.076087</td>\n",
       "      <td>Mutation</td>\n",
       "      <td>7</td>\n",
       "      <td>TCGA</td>\n",
       "    </tr>\n",
       "    <tr>\n",
       "      <th>18</th>\n",
       "      <td>APOB</td>\n",
       "      <td>338</td>\n",
       "      <td>Gene</td>\n",
       "      <td>NCBIGene</td>\n",
       "      <td>TCGA-ACC</td>\n",
       "      <td>MONDO:0008734</td>\n",
       "      <td>Disease</td>\n",
       "      <td>MONDO</td>\n",
       "      <td>gene_associated_with_condition</td>\n",
       "      <td>0.065217</td>\n",
       "      <td>Mutation</td>\n",
       "      <td>6</td>\n",
       "      <td>TCGA</td>\n",
       "    </tr>\n",
       "    <tr>\n",
       "      <th>23</th>\n",
       "      <td>PRKAR1A</td>\n",
       "      <td>5573</td>\n",
       "      <td>Gene</td>\n",
       "      <td>NCBIGene</td>\n",
       "      <td>TCGA-ACC</td>\n",
       "      <td>MONDO:0008734</td>\n",
       "      <td>Disease</td>\n",
       "      <td>MONDO</td>\n",
       "      <td>gene_associated_with_condition</td>\n",
       "      <td>0.054348</td>\n",
       "      <td>Mutation</td>\n",
       "      <td>5</td>\n",
       "      <td>TCGA</td>\n",
       "    </tr>\n",
       "    <tr>\n",
       "      <th>...</th>\n",
       "      <td>...</td>\n",
       "      <td>...</td>\n",
       "      <td>...</td>\n",
       "      <td>...</td>\n",
       "      <td>...</td>\n",
       "      <td>...</td>\n",
       "      <td>...</td>\n",
       "      <td>...</td>\n",
       "      <td>...</td>\n",
       "      <td>...</td>\n",
       "      <td>...</td>\n",
       "      <td>...</td>\n",
       "      <td>...</td>\n",
       "    </tr>\n",
       "    <tr>\n",
       "      <th>331223</th>\n",
       "      <td>GNAQ</td>\n",
       "      <td>2776</td>\n",
       "      <td>Gene</td>\n",
       "      <td>NCBIGene</td>\n",
       "      <td>TCGA-UVM</td>\n",
       "      <td>MONDO:0006486</td>\n",
       "      <td>Disease</td>\n",
       "      <td>MONDO</td>\n",
       "      <td>gene_associated_with_condition</td>\n",
       "      <td>0.500000</td>\n",
       "      <td>Mutation</td>\n",
       "      <td>40</td>\n",
       "      <td>TCGA</td>\n",
       "    </tr>\n",
       "    <tr>\n",
       "      <th>331224</th>\n",
       "      <td>GNA11</td>\n",
       "      <td>2767</td>\n",
       "      <td>Gene</td>\n",
       "      <td>NCBIGene</td>\n",
       "      <td>TCGA-UVM</td>\n",
       "      <td>MONDO:0006486</td>\n",
       "      <td>Disease</td>\n",
       "      <td>MONDO</td>\n",
       "      <td>gene_associated_with_condition</td>\n",
       "      <td>0.450000</td>\n",
       "      <td>Mutation</td>\n",
       "      <td>36</td>\n",
       "      <td>TCGA</td>\n",
       "    </tr>\n",
       "    <tr>\n",
       "      <th>331225</th>\n",
       "      <td>SF3B1</td>\n",
       "      <td>23451</td>\n",
       "      <td>Gene</td>\n",
       "      <td>NCBIGene</td>\n",
       "      <td>TCGA-UVM</td>\n",
       "      <td>MONDO:0006486</td>\n",
       "      <td>Disease</td>\n",
       "      <td>MONDO</td>\n",
       "      <td>gene_associated_with_condition</td>\n",
       "      <td>0.225000</td>\n",
       "      <td>Mutation</td>\n",
       "      <td>18</td>\n",
       "      <td>TCGA</td>\n",
       "    </tr>\n",
       "    <tr>\n",
       "      <th>331226</th>\n",
       "      <td>BAP1</td>\n",
       "      <td>8314</td>\n",
       "      <td>Gene</td>\n",
       "      <td>NCBIGene</td>\n",
       "      <td>TCGA-UVM</td>\n",
       "      <td>MONDO:0006486</td>\n",
       "      <td>Disease</td>\n",
       "      <td>MONDO</td>\n",
       "      <td>gene_associated_with_condition</td>\n",
       "      <td>0.162500</td>\n",
       "      <td>Mutation</td>\n",
       "      <td>13</td>\n",
       "      <td>TCGA</td>\n",
       "    </tr>\n",
       "    <tr>\n",
       "      <th>331227</th>\n",
       "      <td>EIF1AX</td>\n",
       "      <td>1964</td>\n",
       "      <td>Gene</td>\n",
       "      <td>NCBIGene</td>\n",
       "      <td>TCGA-UVM</td>\n",
       "      <td>MONDO:0006486</td>\n",
       "      <td>Disease</td>\n",
       "      <td>MONDO</td>\n",
       "      <td>gene_associated_with_condition</td>\n",
       "      <td>0.125000</td>\n",
       "      <td>Mutation</td>\n",
       "      <td>10</td>\n",
       "      <td>TCGA</td>\n",
       "    </tr>\n",
       "  </tbody>\n",
       "</table>\n",
       "<p>901 rows × 13 columns</p>\n",
       "</div>"
      ],
      "text/plain": [
       "       subject_name  subject_id subject_category subject_id_prefix  \\\n",
       "0              TP53        7157             Gene          NCBIGene   \n",
       "2            CTNNB1        1499             Gene          NCBIGene   \n",
       "10             MEN1        4221             Gene          NCBIGene   \n",
       "18             APOB         338             Gene          NCBIGene   \n",
       "23          PRKAR1A        5573             Gene          NCBIGene   \n",
       "...             ...         ...              ...               ...   \n",
       "331223         GNAQ        2776             Gene          NCBIGene   \n",
       "331224        GNA11        2767             Gene          NCBIGene   \n",
       "331225        SF3B1       23451             Gene          NCBIGene   \n",
       "331226         BAP1        8314             Gene          NCBIGene   \n",
       "331227       EIF1AX        1964             Gene          NCBIGene   \n",
       "\n",
       "       object_name      object_id object_category object_id_prefix  \\\n",
       "0         TCGA-ACC  MONDO:0008734         Disease            MONDO   \n",
       "2         TCGA-ACC  MONDO:0008734         Disease            MONDO   \n",
       "10        TCGA-ACC  MONDO:0008734         Disease            MONDO   \n",
       "18        TCGA-ACC  MONDO:0008734         Disease            MONDO   \n",
       "23        TCGA-ACC  MONDO:0008734         Disease            MONDO   \n",
       "...            ...            ...             ...              ...   \n",
       "331223    TCGA-UVM  MONDO:0006486         Disease            MONDO   \n",
       "331224    TCGA-UVM  MONDO:0006486         Disease            MONDO   \n",
       "331225    TCGA-UVM  MONDO:0006486         Disease            MONDO   \n",
       "331226    TCGA-UVM  MONDO:0006486         Disease            MONDO   \n",
       "331227    TCGA-UVM  MONDO:0006486         Disease            MONDO   \n",
       "\n",
       "                             predicate  frequency_qualifier  \\\n",
       "0       gene_associated_with_condition             0.184783   \n",
       "2       gene_associated_with_condition             0.152174   \n",
       "10      gene_associated_with_condition             0.076087   \n",
       "18      gene_associated_with_condition             0.065217   \n",
       "23      gene_associated_with_condition             0.054348   \n",
       "...                                ...                  ...   \n",
       "331223  gene_associated_with_condition             0.500000   \n",
       "331224  gene_associated_with_condition             0.450000   \n",
       "331225  gene_associated_with_condition             0.225000   \n",
       "331226  gene_associated_with_condition             0.162500   \n",
       "331227  gene_associated_with_condition             0.125000   \n",
       "\n",
       "       subject_aspect_qualifier  has_count supporting_study_cohort  \n",
       "0                      Mutation         17                    TCGA  \n",
       "2                      Mutation         14                    TCGA  \n",
       "10                     Mutation          7                    TCGA  \n",
       "18                     Mutation          6                    TCGA  \n",
       "23                     Mutation          5                    TCGA  \n",
       "...                         ...        ...                     ...  \n",
       "331223                 Mutation         40                    TCGA  \n",
       "331224                 Mutation         36                    TCGA  \n",
       "331225                 Mutation         18                    TCGA  \n",
       "331226                 Mutation         13                    TCGA  \n",
       "331227                 Mutation         10                    TCGA  \n",
       "\n",
       "[901 rows x 13 columns]"
      ]
     },
     "execution_count": 19,
     "metadata": {},
     "output_type": "execute_result"
    }
   ],
   "source": [
    "driver_tcga_freq"
   ]
  },
  {
   "cell_type": "code",
   "execution_count": 20,
   "id": "c9d0f44d",
   "metadata": {},
   "outputs": [],
   "source": [
    "driver_tcga_freq.to_csv(\"../Input_Table/TCGA_driver_mut_freq.csv\", index = None)"
   ]
  },
  {
   "cell_type": "code",
   "execution_count": 21,
   "id": "98055a10",
   "metadata": {},
   "outputs": [
    {
     "data": {
      "text/html": [
       "<div>\n",
       "<style scoped>\n",
       "    .dataframe tbody tr th:only-of-type {\n",
       "        vertical-align: middle;\n",
       "    }\n",
       "\n",
       "    .dataframe tbody tr th {\n",
       "        vertical-align: top;\n",
       "    }\n",
       "\n",
       "    .dataframe thead th {\n",
       "        text-align: right;\n",
       "    }\n",
       "</style>\n",
       "<table border=\"1\" class=\"dataframe\">\n",
       "  <thead>\n",
       "    <tr style=\"text-align: right;\">\n",
       "      <th></th>\n",
       "      <th>subject_name</th>\n",
       "      <th>subject_id</th>\n",
       "      <th>subject_category</th>\n",
       "      <th>subject_id_prefix</th>\n",
       "      <th>object_name</th>\n",
       "      <th>object_id</th>\n",
       "      <th>object_category</th>\n",
       "      <th>object_id_prefix</th>\n",
       "      <th>predicate</th>\n",
       "      <th>frequency_qualifier</th>\n",
       "      <th>subject_aspect_qualifier</th>\n",
       "      <th>has_count</th>\n",
       "      <th>supporting_study_cohort</th>\n",
       "    </tr>\n",
       "  </thead>\n",
       "  <tbody>\n",
       "    <tr>\n",
       "      <th>141061</th>\n",
       "      <td>FLT3</td>\n",
       "      <td>2322</td>\n",
       "      <td>Gene</td>\n",
       "      <td>NCBIGene</td>\n",
       "      <td>TCGA_LAML</td>\n",
       "      <td>MONDO:0018874</td>\n",
       "      <td>Disease</td>\n",
       "      <td>MONDO</td>\n",
       "      <td>gene_associated_with_condition</td>\n",
       "      <td>0.285714</td>\n",
       "      <td>Mutation</td>\n",
       "      <td>56</td>\n",
       "      <td>TCGA</td>\n",
       "    </tr>\n",
       "    <tr>\n",
       "      <th>262264</th>\n",
       "      <td>FLT3</td>\n",
       "      <td>2322</td>\n",
       "      <td>Gene</td>\n",
       "      <td>NCBIGene</td>\n",
       "      <td>TCGA-SKCM</td>\n",
       "      <td>MONDO:0005012</td>\n",
       "      <td>Disease</td>\n",
       "      <td>MONDO</td>\n",
       "      <td>gene_associated_with_condition</td>\n",
       "      <td>0.105150</td>\n",
       "      <td>Mutation</td>\n",
       "      <td>49</td>\n",
       "      <td>TCGA</td>\n",
       "    </tr>\n",
       "    <tr>\n",
       "      <th>308233</th>\n",
       "      <td>FLT3</td>\n",
       "      <td>2322</td>\n",
       "      <td>Gene</td>\n",
       "      <td>NCBIGene</td>\n",
       "      <td>TCGA-UCEC</td>\n",
       "      <td>MONDO:0000553</td>\n",
       "      <td>Disease</td>\n",
       "      <td>MONDO</td>\n",
       "      <td>gene_associated_with_condition</td>\n",
       "      <td>0.083019</td>\n",
       "      <td>Mutation</td>\n",
       "      <td>44</td>\n",
       "      <td>TCGA</td>\n",
       "    </tr>\n",
       "  </tbody>\n",
       "</table>\n",
       "</div>"
      ],
      "text/plain": [
       "       subject_name  subject_id subject_category subject_id_prefix  \\\n",
       "141061         FLT3        2322             Gene          NCBIGene   \n",
       "262264         FLT3        2322             Gene          NCBIGene   \n",
       "308233         FLT3        2322             Gene          NCBIGene   \n",
       "\n",
       "       object_name      object_id object_category object_id_prefix  \\\n",
       "141061   TCGA_LAML  MONDO:0018874         Disease            MONDO   \n",
       "262264   TCGA-SKCM  MONDO:0005012         Disease            MONDO   \n",
       "308233   TCGA-UCEC  MONDO:0000553         Disease            MONDO   \n",
       "\n",
       "                             predicate  frequency_qualifier  \\\n",
       "141061  gene_associated_with_condition             0.285714   \n",
       "262264  gene_associated_with_condition             0.105150   \n",
       "308233  gene_associated_with_condition             0.083019   \n",
       "\n",
       "       subject_aspect_qualifier  has_count supporting_study_cohort  \n",
       "141061                 Mutation         56                    TCGA  \n",
       "262264                 Mutation         49                    TCGA  \n",
       "308233                 Mutation         44                    TCGA  "
      ]
     },
     "execution_count": 21,
     "metadata": {},
     "output_type": "execute_result"
    }
   ],
   "source": [
    "driver_tcga_freq.loc[driver_tcga_freq['subject_name'] == 'FLT3']"
   ]
  },
  {
   "cell_type": "code",
   "execution_count": 22,
   "id": "e1a33c5e",
   "metadata": {},
   "outputs": [
    {
     "data": {
      "text/plain": [
       "Index(['subject_name', 'subject_id', 'subject_category', 'subject_id_prefix',\n",
       "       'object_name', 'object_id', 'object_category', 'object_id_prefix',\n",
       "       'predicate', 'frequency_qualifier', 'subject_aspect_qualifier',\n",
       "       'has_count', 'supporting_study_cohort'],\n",
       "      dtype='object')"
      ]
     },
     "execution_count": 22,
     "metadata": {},
     "output_type": "execute_result"
    }
   ],
   "source": [
    "driver_tcga_freq.columns"
   ]
  },
  {
   "cell_type": "code",
   "execution_count": 23,
   "id": "98322ca2",
   "metadata": {},
   "outputs": [],
   "source": [
    "#End"
   ]
  }
 ],
 "metadata": {
  "kernelspec": {
   "display_name": "Python 3 (ipykernel)",
   "language": "python",
   "name": "python3"
  },
  "language_info": {
   "codemirror_mode": {
    "name": "ipython",
    "version": 3
   },
   "file_extension": ".py",
   "mimetype": "text/x-python",
   "name": "python",
   "nbconvert_exporter": "python",
   "pygments_lexer": "ipython3",
   "version": "3.10.0"
  }
 },
 "nbformat": 4,
 "nbformat_minor": 5
}
