{
 "cells": [
  {
   "cell_type": "code",
   "execution_count": 93,
   "id": "e4c74f8a",
   "metadata": {},
   "outputs": [],
   "source": [
    "import pandas as pd\n",
    "import urllib.request, json \n",
    "\n",
    "import validators  \n",
    "def find_cid(drugname):\n",
    "    \n",
    "    drugname = drugname.strip(\"(OTC)\")\n",
    "    dic_drugname_pubmed = {}\n",
    "    Found = False\n",
    "    if len(drugname.split(\" \")) == 1:\n",
    "        url_link = \"https://pubchem.ncbi.nlm.nih.gov/sdq/sdqagent.cgi?infmt=json&outfmt=json&query={%22download%22:%22*%22,%22collection%22:%22compound%22,%22where%22:{%22ands%22:[{%22*%22:%22\" +  drugname + \"%22}]},%22order%22:[%22relevancescore,desc%22],%22start%22:1,%22limit%22:10000000,%22downloadfilename%22:%22PubChem_compound_text_\"+drugname+\"%22}\"\n",
    "    if len(drugname.split(\" \")) == 2:\n",
    "        name_part1 = drugname.split(\" \")[0].strip()\n",
    "        name_part2 = drugname.split(\" \")[1].strip()\n",
    "        url_link = \"https://pubchem.ncbi.nlm.nih.gov/sdq/sdqagent.cgi?infmt=json&outfmt=json&query={%22download%22:%22*%22,%22collection%22:%22compound%22,%22where%22:{%22ands%22:[{%22*%22:%22\" + name_part1 +\"%22},{%22*%22:%22\" + name_part2 + \"%22}]},%22order%22:[%22relevancescore,desc%22],%22start%22:1,%22limit%22:10000000,%22downloadfilename%22:%22PubChem_compound_text_\" + name_part1 + \"%20\"+name_part2+\"%22}\"\n",
    "    else:\n",
    "        url_link = \"https://pubchem.ncbi.nlm.nih.gov/sdq/sdqagent.cgi?infmt=json&outfmt=json&query={%22download%22:%22*%22,%22collection%22:%22compound%22,%22where%22:{%22ands%22:[{%22*%22:%22\" +  drugname + \"%22}]},%22order%22:[%22relevancescore,desc%22],%22start%22:1,%22limit%22:10000000,%22downloadfilename%22:%22PubChem_compound_text_\"+drugname+\"%22}\"\n",
    "    \n",
    "    if validators.url(url_link):    \n",
    "        with urllib.request.urlopen(url_link) as url:\n",
    "            data = json.load(url)\n",
    "            \n",
    "        return_id = \"\"\n",
    "        dic_drugname_pubmed = {}\n",
    "        for curr_drug_anno in data:  \n",
    "            cid = curr_drug_anno['cid']\n",
    "            cmpdname = curr_drug_anno['cmpdname']\n",
    "            if type(cmpdname)!= list:\n",
    "                dic_drugname_pubmed[cmpdname] = cid\n",
    "\n",
    "                if cmpdname.upper()  == drugname.upper():\n",
    "                    return_id = \"PUBMED.COMPOUND:\" + cid\n",
    "                    Found = True\n",
    "                    break\n",
    "            else:\n",
    "                return_id = None\n",
    "        else:\n",
    "            return_id = None\n",
    "    \n",
    "    else:\n",
    "        return_id = None\n",
    "        \n",
    "    return(return_id)"
   ]
  },
  {
   "cell_type": "code",
   "execution_count": null,
   "id": "18adfe34",
   "metadata": {},
   "outputs": [],
   "source": []
  },
  {
   "cell_type": "code",
   "execution_count": 29,
   "id": "29d327b3",
   "metadata": {},
   "outputs": [],
   "source": [
    "data_file = open(\"/Users/guangrong/Documents/GitHub_project/fastqpi_BigGIM/KGs/Drug_Target/FDA_approved_drugs.csv\")"
   ]
  },
  {
   "cell_type": "code",
   "execution_count": 30,
   "id": "be198762",
   "metadata": {},
   "outputs": [],
   "source": [
    "drug_combination = []\n",
    "single_drug = []\n",
    "generic_name_single_drug = []\n",
    "count_drug_combination = 0"
   ]
  },
  {
   "cell_type": "code",
   "execution_count": 31,
   "id": "26ca4fd5",
   "metadata": {},
   "outputs": [
    {
     "name": "stdout",
     "output_type": "stream",
     "text": [
      "ABACAVIR SULFATE, LAMIVUDINE AND ZIDOVUDINE, ABACAVIR SULFATE\n",
      "\n",
      "ACETAMINOPHEN, ASPIRIN AND CAFFEINE, ACETAMINOPHEN (OTC)\n",
      "\n",
      "ACETAMINOPHEN, CAFFEINE AND DIHYDROCODEINE BITARTRATE, ACETAMINOPHEN\n",
      "\n",
      "ACETIC ACID, ACETIC ACID, GLACIAL\n",
      "\n",
      "ACETIC ACID 0.25% IN PLASTIC CONTAINER, ACETIC ACID, GLACIAL\n",
      "\n",
      "AMLODIPINE BESYLATE, VALSARTAN AND HYDROCHLOROTHIAZIDE, AMLODIPINE BESYLATE\n",
      "\n",
      "BISMUTH SUBSALICYLATE, METRONIDAZOLE AND TETRACYCLINE HYDROCHLORIDE, BISMUTH SUBSALICYLATE\n",
      "\n",
      "BROMPHENIRAMINE MALEATE, PSEUDOEPHEDRINE HYDROCHLORIDE AND DEXTROMETHORPHAN HYDROBROMIDE,\n",
      "\n",
      "BUTALBITAL, ACETAMINOPHEN AND CAFFEINE, ACETAMINOPHEN\n",
      "\n",
      "BUTALBITAL, ACETAMINOPHEN, CAFFEINE AND CODEINE PHOSPHATE, ACETAMINOPHEN\n",
      "\n",
      "BUTALBITAL, ASPIRIN AND CAFFEINE, ASPIRIN\n",
      "\n",
      "BUTALBITAL, ASPIRIN, CAFFEINE, AND CODEINE PHOSPHATE, ASPIRIN\n",
      "\n",
      "CARBIDOPA, LEVODOPA AND ENTACAPONE, CARBIDOPA\n",
      "\n",
      "CARISOPRODOL, ASPIRIN AND CODEINE PHOSPHATE, ASPIRIN\n",
      "\n",
      "DETROAMP SACCHARATE, AMP ASPARTATE, DEXTROAMP SULFATE AND AMP SULFATE, AMPHETAMINE\n",
      "\n",
      "DEXTROAMP SACCHARATE, AMP ASPARTATE, DEXTROAMP SULFATE AND AMP SULFATE, AMPHETAMINE\n",
      "\n",
      "DEXTROAMP SACCHARATE, AMP ASPARTATE, DEXTROAMP SULFATE AND AMP SULFATE, AMPHETAMINE\n",
      "\n",
      "DEXTROSE 5%, SODIUM CHLORIDE 0.2% AND POTASSIUM CHLORIDE 10MEQ, DEXTROSE\n",
      "\n",
      "DEXTROSE 5%, SODIUM CHLORIDE 0.2% AND POTASSIUM CHLORIDE 15MEQ (K), DEXTROSE\n",
      "\n",
      "DEXTROSE 5%, SODIUM CHLORIDE 0.2% AND POTASSIUM CHLORIDE 20MEQ, DEXTROSE\n",
      "\n",
      "DEXTROSE 5%, SODIUM CHLORIDE 0.2% AND POTASSIUM CHLORIDE 20MEQ (K), DEXTROSE\n",
      "\n",
      "DEXTROSE 5%, SODIUM CHLORIDE 0.2% AND POTASSIUM CHLORIDE 30MEQ, DEXTROSE\n",
      "\n",
      "DEXTROSE 5%, SODIUM CHLORIDE 0.2% AND POTASSIUM CHLORIDE 40MEQ, DEXTROSE\n",
      "\n",
      "DEXTROSE 5%, SODIUM CHLORIDE 0.2% AND POTASSIUM CHLORIDE 5MEQ, DEXTROSE\n",
      "\n",
      "DEXTROSE 5%, SODIUM CHLORIDE 0.2% AND POTASSIUM CHLORIDE 5MEQ (K), DEXTROSE\n",
      "\n",
      "DEXTROSE 5%, SODIUM CHLORIDE 0.33% AND POTASSIUM CHLORIDE 10MEQ IN PLASTIC CONTAINER,\n",
      "\n",
      "DEXTROSE 5%, SODIUM CHLORIDE 0.33% AND POTASSIUM CHLORIDE 15MEQ IN PLASTIC CONTAINER,\n",
      "\n",
      "DEXTROSE 5%, SODIUM CHLORIDE 0.33% AND POTASSIUM CHLORIDE 20MEQ IN PLASTIC CONTAINER,\n",
      "\n",
      "DEXTROSE 5%, SODIUM CHLORIDE 0.33% AND POTASSIUM CHLORIDE 30MEQ IN PLASTIC CONTAINER,\n",
      "\n",
      "DEXTROSE 5%, SODIUM CHLORIDE 0.33% AND POTASSIUM CHLORIDE 40MEQ IN PLASTIC CONTAINER,\n",
      "\n",
      "DEXTROSE 5%, SODIUM CHLORIDE 0.33% AND POTASSIUM CHLORIDE 5MEQ IN PLASTIC CONTAINER,\n",
      "\n",
      "DEXTROSE 5%, SODIUM CHLORIDE 0.45% AND POTASSIUM CHLORIDE 20MEQ (K) IN PLASTIC CONTAINER,\n",
      "\n",
      "DROSPIRENONE, ETHINYL ESTRADIOL AND LEVOMEFOLATE CALCIUM, DROSPIRENONE\n",
      "\n",
      "EFAVIRENZ, EMTRICITABINE, AND TENOFOVIR DISOPROXIL FUMARATE, EFAVIRENZ\n",
      "\n",
      "EFAVIRENZ, LAMIVUDINE AND TENOFOVIR DISOPROXIL FUMARATE, EFAVIRENZ\n",
      "\n",
      "FAMOTIDINE, CALCIUM CARBONATE, AND MAGNESIUM HYDROXIDE, CALCIUM CARBONATE (OTC)\n",
      "\n",
      "FULVICIN P/G, GRISEOFULVIN, ULTRAMICROCRYSTALLINE\n",
      "\n",
      "FULVICIN P/G 165, GRISEOFULVIN, ULTRAMICROCRYSTALLINE\n",
      "\n",
      "FULVICIN P/G 330, GRISEOFULVIN, ULTRAMICROCRYSTALLINE\n",
      "\n",
      "FULVICIN-U/F, GRISEOFULVIN, MICROCRYSTALLINE\n",
      "\n",
      "GRIS-PEG, GRISEOFULVIN, ULTRAMICROSIZE\n",
      "\n",
      "GRISEOFULVIN, GRISEOFULVIN, MICROSIZE\n",
      "\n",
      "GRISEOFULVIN, ULTRAMICROSIZE, GRISEOFULVIN, ULTRAMICROSIZE\n",
      "\n",
      "GRISEOFULVIN,ULTRAMICROSIZE, GRISEOFULVIN, ULTRAMICROSIZE\n",
      "\n",
      "HEPARIN SODIUM 1,000 UNITS AND SODIUM CHLORIDE 0.9% IN PLASTIC CONTAINER, HEPARIN SODIUM\n",
      "\n",
      "HEPARIN SODIUM 1,000 UNITS IN SODIUM CHLORIDE 0.9% IN PLASTIC CONTAINER, HEPARIN SODIUM\n",
      "\n",
      "HEPARIN SODIUM 10,000 UNITS IN DEXTROSE 5% IN PLASTIC CONTAINER, HEPARIN SODIUM\n",
      "\n",
      "HEPARIN SODIUM 12,500 UNITS IN DEXTROSE 5% IN PLASTIC CONTAINER, HEPARIN SODIUM\n",
      "\n",
      "HEPARIN SODIUM 12,500 UNITS IN SODIUM CHLORIDE 0.45% IN PLASTIC CONTAINER, HEPARIN SODIUM\n",
      "\n",
      "HEPARIN SODIUM 2,000 UNITS AND SODIUM CHLORIDE 0.9% IN PLASTIC CONTAINER, HEPARIN SODIUM\n",
      "\n",
      "HEPARIN SODIUM 2,000 UNITS IN SODIUM CHLORIDE 0.9% IN PLASTIC CONTAINER, HEPARIN SODIUM\n",
      "\n",
      "HEPARIN SODIUM 20,000 UNITS IN DEXTROSE 5% IN PLASTIC CONTAINER, HEPARIN SODIUM\n",
      "\n",
      "HEPARIN SODIUM 25,000 UNITS IN DEXTROSE 5% IN PLASTIC CONTAINER, HEPARIN SODIUM\n",
      "\n",
      "HEPARIN SODIUM 25,000 UNITS IN SODIUM CHLORIDE 0.45% IN PLASTIC CONTAINER, HEPARIN SODIUM\n",
      "\n",
      "HYDROCODONE BITARTRATE, CHLORPHENIRAMINE MALEATE AND PSEUDOEPHEDRINE HYDROCHLORIDE,\n",
      "\n",
      "HYDROCORTISONE AND ACETIC ACID, ACETIC ACID, GLACIAL\n",
      "\n",
      "LANSOPRAZOLE, AMOXICILLIN AND CLARITHROMYCIN (COPACKAGED), AMOXICILLIN\n",
      "\n",
      "MACRODANTIN, NITROFURANTOIN, MACROCRYSTALLINE\n",
      "\n",
      "MENEST, ESTROGENS, ESTERIFIED\n",
      "\n",
      "MONOBASIC SODIUM PHOSPHATE AND DIBASIC SODIUM PHOSPHATE, SODIUM PHOSPHATE, DIBASIC,\n",
      "\n",
      "NEOMYCIN AND POLYMYXIN B SULFATES, BACITRACIN ZINC AND HYDROCORTISONE, BACITRACIN ZINC\n",
      "\n",
      "NITROFURANTOIN, NITROFURANTOIN, MACROCRYSTALLINE\n",
      "\n",
      "OLMESARTAN MEDOXOMIL, AMLODIPINE AND HYDROCHLOROTHIAZIDE, AMLODIPINE BESYLATE\n",
      "\n",
      "ORIAHNN (COPACKAGED), ELAGOLIX SODIUM,ESTRADIOL,NORETHINDRONE ACETATE\n",
      "\n",
      "OSMOPREP, SODIUM PHOSPHATE, DIBASIC, ANHYDROUS\n",
      "\n",
      "PEG-3350, POTASSIUM CHLORIDE, SODIUM BICARBONATE, SODIUM CHLORIDE, POLYETHYLENE GLYCOL\n",
      "\n",
      "PEG-3350, SODIUM SULFATE, SODIUM CHLORIDE, POTASSIUM CHLORIDE, SODIUM ASCORBATE AND\n",
      "\n",
      "POTASSIUM PHOSPHATES, POTASSIUM PHOSPHATE, DIBASIC\n",
      "\n",
      "PREMARIN, ESTROGENS, CONJUGATED\n",
      "\n",
      "PREMPHASE 14/14, ESTROGENS, CONJUGATED\n",
      "\n",
      "PREMPRO, ESTROGENS, CONJUGATED\n",
      "\n",
      "PROMETH HYDROCHLORIDE,PHENYLEPHRINE HYDROCHLORIDE W/CODEINE PHOSPHATE, CODEINE PHOSPHATE\n",
      "\n",
      "PROMETHAZINE HYDROCHLORIDE, PHENYLEPHRINE HYDROCHLORIDE W/CODEINE PHOSPHATE, CODEINE\n",
      "\n",
      "PROMETHAZINE HYDROCHLORIDE,PHENYLEPHRINE HYDROCHLORIDE W/CODEINE PHOSPHATE, CODEINE\n",
      "\n",
      "PYTEST, UREA, C-14\n",
      "\n",
      "PYTEST KIT, UREA, C-14\n",
      "\n",
      "SODIUM PHOSPHATES, SODIUM PHOSPHATE, DIBASIC, HEPTAHYDRATE\n",
      "\n",
      "SODIUM PHOSPHATES IN PLASTIC CONTAINER, SODIUM PHOSPHATE, DIBASIC, HEPTAHYDRATE\n",
      "\n",
      "SODIUM SULFATE, POTASSIUM SULFATE AND MAGNESIUM SULFATE, MAGNESIUM SULFATE\n",
      "\n",
      "TRIKAFTA (COPACKAGED), ELEXACAFTOR, IVACAFTOR, TEZACAFTOR\n",
      "\n",
      "VOSOL, ACETIC ACID, GLACIAL\n",
      "\n",
      "VOSOL HC, ACETIC ACID, GLACIAL\n",
      "\n"
     ]
    }
   ],
   "source": [
    "for line in data_file.readlines():\n",
    "    words = line.strip().split(',')\n",
    "    if len(words) > 2:\n",
    "        print(line)\n",
    "        count_drug_combination += 1\n",
    "    else:\n",
    "        single_drug.append(words[0])\n",
    "        generic_name_single_drug.append(words[1].strip())"
   ]
  },
  {
   "cell_type": "code",
   "execution_count": 32,
   "id": "2fca3582",
   "metadata": {},
   "outputs": [
    {
     "data": {
      "text/plain": [
       "3903"
      ]
     },
     "execution_count": 32,
     "metadata": {},
     "output_type": "execute_result"
    }
   ],
   "source": [
    "len(single_drug)"
   ]
  },
  {
   "cell_type": "code",
   "execution_count": 33,
   "id": "b9fcc9d4",
   "metadata": {},
   "outputs": [
    {
     "data": {
      "text/plain": [
       "3903"
      ]
     },
     "execution_count": 33,
     "metadata": {},
     "output_type": "execute_result"
    }
   ],
   "source": [
    "len(generic_name_single_drug)"
   ]
  },
  {
   "cell_type": "code",
   "execution_count": 34,
   "id": "2a481fb0",
   "metadata": {},
   "outputs": [
    {
     "data": {
      "text/plain": [
       "82"
      ]
     },
     "execution_count": 34,
     "metadata": {},
     "output_type": "execute_result"
    }
   ],
   "source": [
    "count_drug_combination"
   ]
  },
  {
   "cell_type": "code",
   "execution_count": 43,
   "id": "45fdeef6",
   "metadata": {},
   "outputs": [],
   "source": [
    "dic_drug_id = {}\n",
    "count = 0"
   ]
  },
  {
   "cell_type": "code",
   "execution_count": 100,
   "id": "41f37f2b",
   "metadata": {},
   "outputs": [],
   "source": [
    "#find_cid(\"ODEVIXIBAT\")\n",
    "drugname = \"POTASSIUM\"\n",
    "url_link = \"https://pubchem.ncbi.nlm.nih.gov/sdq/sdqagent.cgi?infmt=json&outfmt=json&query={%22download%22:%22*%22,%22collection%22:%22compound%22,%22where%22:{%22ands%22:[{%22*%22:%22\" +  drugname + \"%22}]},%22order%22:[%22relevancescore,desc%22],%22start%22:1,%22limit%22:10000000,%22downloadfilename%22:%22PubChem_compound_text_\"+drugname+\"%22}\"\n",
    "with urllib.request.urlopen(url_link) as url:\n",
    "    data = json.load(url)"
   ]
  },
  {
   "cell_type": "code",
   "execution_count": 119,
   "id": "f09dad95",
   "metadata": {},
   "outputs": [],
   "source": [
    "for i in set(generic_name_single_drug):\n",
    "    if i != '' and (i not in dic_drug_id) and i not in [\"ALCOHOL (OTC)\",\"POTASSIUM\",\"ALCOHOL\",\"SODIUM ACETATE\",\"GLYCINE\" ,\n",
    "                                                        \"METHYLENE BLUE\",\"ZINC CHLORIDE\",\"STREPTOMYCIN SULFATE\",\"RUCAPARIB CAMSYLATE\",\n",
    "                                                       \"ZINC ACETATE\"]:\n",
    "        print(i)\n",
    "        if type(i) != list:\n",
    "            dic_drug_id[i] = find_cid(i)\n",
    "            print(i + \":\" + str(dic_drug_id[i])) \n",
    "            "
   ]
  },
  {
   "cell_type": "code",
   "execution_count": 120,
   "id": "6152a1e2",
   "metadata": {},
   "outputs": [
    {
     "data": {
      "text/plain": [
       "1559"
      ]
     },
     "execution_count": 120,
     "metadata": {},
     "output_type": "execute_result"
    }
   ],
   "source": [
    "len(dic_drug_id)"
   ]
  },
  {
   "cell_type": "code",
   "execution_count": 123,
   "id": "180a6403",
   "metadata": {},
   "outputs": [],
   "source": [
    "dic_drug_id\n",
    "drug_name_list = []\n",
    "pubchem_id_list = []\n",
    "\n",
    "for keys in dic_drug_id:\n",
    "    drug_name_list.append(keys)\n",
    "    pubchem_id_list.append(dic_drug_id[keys])\n",
    "    "
   ]
  },
  {
   "cell_type": "code",
   "execution_count": 124,
   "id": "759c9b0f",
   "metadata": {},
   "outputs": [],
   "source": [
    "result = pd.DataFrame({'Drug_name':drug_name_list, 'Pubchem_compound':pubchem_id_list})"
   ]
  },
  {
   "cell_type": "code",
   "execution_count": 125,
   "id": "2ba8d355",
   "metadata": {},
   "outputs": [],
   "source": [
    "result.to_csv(\"/Users/guangrong/Documents/GitHub_project/fastqpi_BigGIM/KGs/Drug_Target/FDA_approved_drugs_withPubchem_id.csv\")"
   ]
  },
  {
   "cell_type": "code",
   "execution_count": null,
   "id": "04b51d0c",
   "metadata": {},
   "outputs": [],
   "source": []
  }
 ],
 "metadata": {
  "kernelspec": {
   "display_name": "Python 3 (ipykernel)",
   "language": "python",
   "name": "python3"
  },
  "language_info": {
   "codemirror_mode": {
    "name": "ipython",
    "version": 3
   },
   "file_extension": ".py",
   "mimetype": "text/x-python",
   "name": "python",
   "nbconvert_exporter": "python",
   "pygments_lexer": "ipython3",
   "version": "3.10.0"
  }
 },
 "nbformat": 4,
 "nbformat_minor": 5
}
