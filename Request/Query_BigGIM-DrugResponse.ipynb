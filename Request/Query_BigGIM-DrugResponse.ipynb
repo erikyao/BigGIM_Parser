{
 "cells": [
  {
   "cell_type": "markdown",
   "id": "d52c33f3",
   "metadata": {},
   "source": [
    "Example queris for BigGIM-Drugresponse\n",
    "API endpoint for BigGIM-DrugResponse\n",
    "\n",
    "SmartAPI endpoint: https://biothings.transltr.io/biggim_drugresponse_kp\n",
    "SmartAPI endpoint: biothings-multiomics-biggim-drugresponse\n",
    "TRAPI endpoint: https://api.bte.ncats.io/v1/smartapi/adf20dd6ff23dfe18e8e012bde686e31/query"
   ]
  },
  {
   "cell_type": "code",
   "execution_count": 8,
   "id": "e0963c76",
   "metadata": {},
   "outputs": [],
   "source": [
    "import requests\n",
    "import json\n",
    "import os\n",
    "BigGIM_URL = \"https://api.bte.ncats.io/v1/smartapi/adf20dd6ff23dfe18e8e012bde686e31/query\""
   ]
  },
  {
   "cell_type": "code",
   "execution_count": 9,
   "id": "9940d91d",
   "metadata": {},
   "outputs": [],
   "source": [
    "#Example: which drugs shows sensitivity with KRAS (NCBIGene:3845) altered?\n",
    "query_json = {\n",
    "    \"message\": {\n",
    "        \"query_graph\": {\n",
    "            \"nodes\": {\n",
    "                \"n0\": {\n",
    "                    \"ids\":[\"NCBIGene:4067\"],\n",
    " \n",
    "                },\n",
    "                \"n1\": {\n",
    "                    \"ids\":[\"NCBIGene:130271\"],\n",
    "               }\n",
    "            },\n",
    "            \"edges\": {\n",
    "                \"e1\": {\n",
    "                    \"subject\": \"n0\",\n",
    "                    \"object\": \"n1\",\n",
    "                    \"predicates\": [\"biolink:physically_interacts_with\"]\n",
    "                }\n",
    "            }\n",
    "        }\n",
    "    }\n",
    "}\n",
    "\n",
    "response = requests.post(BigGIM_URL,json=query_json)\n",
    "result = response.json()[\"message\"]"
   ]
  },
  {
   "cell_type": "code",
   "execution_count": 2,
   "id": "914e5323",
   "metadata": {},
   "outputs": [],
   "source": [
    "#Example: which drugs shows sensitivity with KRAS (NCBIGene:3845) altered?\n",
    "query_json = {\n",
    "    \"message\": {\n",
    "        \"query_graph\": {\n",
    "            \"nodes\": {\n",
    "                \"n0\": {\n",
    "                    \"ids\":[\"NCBIGene:3845\"],\n",
    "                    \"categories\":[\"biolink:Gene\"]\n",
    "                },\n",
    "                \"n1\": {\n",
    "\n",
    "                    \"categories\":[\"biolink:SmallMolecule\"]\n",
    "               }\n",
    "            },\n",
    "            \"edges\": {\n",
    "                \"e1\": {\n",
    "                    \"subject\": \"n0\",\n",
    "                    \"object\": \"n1\",\n",
    "                    \"predicates\": [\"biolink:associated_with_sensitivity_to\"]\n",
    "                }\n",
    "            }\n",
    "        }\n",
    "    }\n",
    "}\n",
    "\n",
    "response = requests.post(BigGIM_URL,json=query_json)\n",
    "result = response.json()[\"message\"]"
   ]
  },
  {
   "cell_type": "code",
   "execution_count": 10,
   "id": "13624c33",
   "metadata": {},
   "outputs": [
    {
     "name": "stdout",
     "output_type": "stream",
     "text": [
      "0\n"
     ]
    }
   ],
   "source": [
    "print(len(result['knowledge_graph']['nodes']))\n",
    "#print(result)"
   ]
  },
  {
   "cell_type": "code",
   "execution_count": 7,
   "id": "c67ac204",
   "metadata": {},
   "outputs": [
    {
     "data": {
      "text/plain": [
       "{'nodes': {}, 'edges': {}}"
      ]
     },
     "execution_count": 7,
     "metadata": {},
     "output_type": "execute_result"
    }
   ],
   "source": [
    "result['knowledge_graph']"
   ]
  },
  {
   "cell_type": "code",
   "execution_count": 5,
   "id": "02985f86",
   "metadata": {},
   "outputs": [],
   "source": [
    "# Example: what drugs or small molecules that target BCL2 (NCBIGene: 596)?\n",
    "query_json = {\n",
    "    \"message\": {\n",
    "        \"query_graph\": {\n",
    "            \"nodes\": {\n",
    "                \"n0\": {\n",
    "                    \"categories\":[\"biolink:SmallMolecule\"]\n",
    "                },\n",
    "                \"n1\": {\n",
    "                    \"ids\":[\"NCBIGene:596\"],\n",
    "                    \"categories\":[\"biolink:Gene\"]\n",
    "                    \n",
    "               }\n",
    "            },\n",
    "            \"edges\": {\n",
    "                \"e1\": {\n",
    "                    \"subject\": \"n0\",\n",
    "                    \"object\": \"n1\",\n",
    "                    \"predicates\": [\"biolink:has_target\"]\n",
    "                }\n",
    "            }\n",
    "        }\n",
    "    }\n",
    "}\n",
    "\n",
    "response = requests.post(BigGIM_URL,json=query_json)\n",
    "result = response.json()[\"message\"]\n"
   ]
  },
  {
   "cell_type": "code",
   "execution_count": 7,
   "id": "b4bf6461",
   "metadata": {},
   "outputs": [
    {
     "name": "stdout",
     "output_type": "stream",
     "text": [
      "8\n"
     ]
    }
   ],
   "source": [
    "print(len(result['knowledge_graph']['nodes']))\n",
    "#print(result)"
   ]
  },
  {
   "cell_type": "code",
   "execution_count": 8,
   "id": "45c6e090",
   "metadata": {},
   "outputs": [],
   "source": [
    "# Example: what are the potential biomarkser for liver cancer (MONDO:0007256)?\n",
    "query_json = {\n",
    "    \"message\": {\n",
    "        \"query_graph\": {\n",
    "            \"nodes\": {\n",
    "                \"n0\": {\n",
    "                    \"ids\":[\"MONDO:0007256\"],\n",
    "                    \"categories\":[\"biolink:Disease\"]\n",
    "                },\n",
    "                \"n1\": {\n",
    "                    \"categories\":[\"biolink:Gene\"]\n",
    "                    \n",
    "               }\n",
    "            },\n",
    "            \"edges\": {\n",
    "                \"e1\": {\n",
    "                    \"subject\": \"n0\",\n",
    "                    \"object\": \"n1\",\n",
    "                    \"predicates\": [\"biolink:has_biomarker\"]\n",
    "                }\n",
    "            }\n",
    "        }\n",
    "    }\n",
    "}\n",
    "\n",
    "response = requests.post(BigGIM_URL,json=query_json)\n",
    "result = response.json()[\"message\"]"
   ]
  },
  {
   "cell_type": "code",
   "execution_count": 9,
   "id": "dbb91b3a",
   "metadata": {},
   "outputs": [
    {
     "name": "stdout",
     "output_type": "stream",
     "text": [
      "306\n"
     ]
    }
   ],
   "source": [
    "print(len(result['knowledge_graph']['nodes']))\n",
    "#print(result)"
   ]
  },
  {
   "cell_type": "code",
   "execution_count": 10,
   "id": "d74c5498",
   "metadata": {},
   "outputs": [],
   "source": [
    "# Example: what are the proteins that phsically interacts with KRAS (NCBIGene:3845) ?\n",
    "query_json = {\n",
    "    \"message\": {\n",
    "        \"query_graph\": {\n",
    "            \"nodes\": {\n",
    "                \"n0\": {\n",
    "                    \"ids\":[\"NCBIGene:3845\"],\n",
    "                    \"categories\":[\"biolink:Gene\"]\n",
    "                },\n",
    "                \"n1\": {\n",
    "                    \"categories\":[\"biolink:Gene\"]\n",
    "                    \n",
    "               }\n",
    "            },\n",
    "            \"edges\": {\n",
    "                \"e1\": {\n",
    "                    \"subject\": \"n0\",\n",
    "                    \"object\": \"n1\",\n",
    "                    \"predicates\": [\"biolink:physically_interacts_with\"]\n",
    "                }\n",
    "            }\n",
    "        }\n",
    "    }\n",
    "}\n",
    "\n",
    "response = requests.post(BigGIM_URL,json=query_json)\n",
    "result = response.json()[\"message\"]"
   ]
  },
  {
   "cell_type": "code",
   "execution_count": 58,
   "id": "50e2868f",
   "metadata": {},
   "outputs": [
    {
     "name": "stdout",
     "output_type": "stream",
     "text": [
      "1061\n"
     ]
    }
   ],
   "source": [
    "print(len(result['knowledge_graph']['nodes']))\n",
    "#print(result)"
   ]
  },
  {
   "cell_type": "code",
   "execution_count": 63,
   "id": "2c62af16",
   "metadata": {},
   "outputs": [],
   "source": [
    "# Example: what are the genes that are negatively correlcted with KRAS (NCBIGene:3845) ?\n",
    "query_json = {\n",
    "    \"message\": {\n",
    "        \"query_graph\": {\n",
    "            \"nodes\": {\n",
    "                \"n0\": {\n",
    "                    \"ids\":[\"NCBIGene:3845\"],\n",
    "                    \"categories\":[\"biolink:Gene\"]\n",
    "                },\n",
    "                \"n1\": {\n",
    "                    \"categories\":[\"biolink:Gene\"]\n",
    "                    \n",
    "               }\n",
    "            },\n",
    "            \"edges\": {\n",
    "                \"e1\": {\n",
    "                    \"subject\": \"n0\",\n",
    "                    \"object\": \"n1\",\n",
    "                    \"predicates\": [\"biolink:positively_correlated_with\"]\n",
    "                }\n",
    "            }\n",
    "        }\n",
    "    }\n",
    "}\n",
    "\n",
    "response = requests.post(BigGIM_URL,json=query_json)\n",
    "result = response.json()[\"message\"]"
   ]
  },
  {
   "cell_type": "code",
   "execution_count": 67,
   "id": "f89a560b",
   "metadata": {},
   "outputs": [
    {
     "name": "stdout",
     "output_type": "stream",
     "text": [
      "87\n"
     ]
    }
   ],
   "source": [
    "print(len(result['knowledge_graph']['nodes']))\n",
    "#result"
   ]
  }
 ],
 "metadata": {
  "kernelspec": {
   "display_name": "Python 3 (ipykernel)",
   "language": "python",
   "name": "python3"
  },
  "language_info": {
   "codemirror_mode": {
    "name": "ipython",
    "version": 3
   },
   "file_extension": ".py",
   "mimetype": "text/x-python",
   "name": "python",
   "nbconvert_exporter": "python",
   "pygments_lexer": "ipython3",
   "version": "3.10.0"
  },
  "vscode": {
   "interpreter": {
    "hash": "661ca800ecae8ce4ff3d393803f4fae3db4526a49db3761eb910dc64a9a5ad05"
   }
  }
 },
 "nbformat": 4,
 "nbformat_minor": 5
}
