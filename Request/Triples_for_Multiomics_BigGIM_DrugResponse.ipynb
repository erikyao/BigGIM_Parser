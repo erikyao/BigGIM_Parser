{
 "cells": [
  {
   "cell_type": "code",
   "execution_count": 1,
   "id": "bb047499",
   "metadata": {},
   "outputs": [],
   "source": [
    "import requests\n",
    "import json\n",
    "import os\n",
    "BigGIM_URL = \"https://api.bte.ncats.io/v1/smartapi/adf20dd6ff23dfe18e8e012bde686e31/query\""
   ]
  },
  {
   "cell_type": "code",
   "execution_count": 60,
   "id": "9e2342e0",
   "metadata": {},
   "outputs": [
    {
     "data": {
      "text/plain": [
       "'\\n#The following triples doesn\\'t work out, need to follow up and check why, maybe haven\\'t been loaded into the SmartAPI system\\nquery_graph= { \\n    \"underlying_api_infores\": \"biothings-multiomics-biggim-drugresponse\",\\n    \"subject_category\": \"biolink:Gene\",\\n    \"subject\": \"NCBIGene:2719\",\\n    \"subject_name\": \"GPC3\",\\n    \"predicate\": \"biolink:positively_correlated_with\",\\n    \"object_category\": \"biolink:Gene\", \\n    \"object\": \"NCBIGene:3490\",\\n    \"object_name\": \"IGFBP7\"\\n},\\n\\n{ \\n    \"underlying_api_infores\": \"biothings-multiomics-biggim-drugresponse\",\\n    \"subject_category\": \"biolink:Gene\",\\n    \"subject\": \"NCBIGene:100652939,\",\\n    \"subject_name\": \"MTND2P28\",\\n    \"predicate\": \"biolink:negatively_correlated_with\",\\n    \"object_category\": \"biolink:Gene\", \\n    \"object\": \"NCBIGene:710\",\\n    \"object_name\": \"SERPING1\"\\n}\\n'"
      ]
     },
     "execution_count": 60,
     "metadata": {},
     "output_type": "execute_result"
    }
   ],
   "source": [
    "BigGim_triples = [{\n",
    "    \"underlying_api_infores\": \"biothings-multiomics-biggim-drugresponse\",\n",
    "    \"subject_category\": \"biolink:Gene\",\n",
    "    \"subject\": \"NCBIGene:3845\",\n",
    "    \"subject_name\": \"KRAS\",\n",
    "    \"predicate\": \"biolink:associated_with_sensitivity_to\",\n",
    "    \"object_category\": \"biolink:SmallMolecule\",\n",
    "    \"object\": \"PUBCHEM.COMPOUND:11707110\",\n",
    "    \"object_name\": \"Trametinib\"\n",
    "},\n",
    "\n",
    "{\n",
    "    \"underlying_api_infores\": \"biothings-multiomics-biggim-drugresponse\",\n",
    "    \"subject_category\": \"biolink:Disease\",\n",
    "    \"subject\": \"MONDO:0007256\",\n",
    "    \"subject_name\": \"LIHC\",\n",
    "    \"predicate\": \"biolink:has_biomarker\",\n",
    "    \"object_category\": \"biolink:Gene\",\n",
    "    \"object\": \"NCBIGene:174\",\n",
    "    \"object_name\": \"AFP\"\n",
    "},\n",
    "\n",
    "{ \n",
    "    \"underlying_api_infores\": \"biothings-multiomics-biggim-drugresponse\",\n",
    "    \"subject_category\": \"biolink:Protein\",\n",
    "    \"subject\": \"NCBIGene:5910\",\n",
    "    \"subject_name\": \"RAP1GDS1\",\n",
    "    \"predicate\": \"biolink:physically_interacts_with\",\n",
    "    \"object_category\": \"biolink:Protein\", \n",
    "    \"object\": \"NCBIGene:3845\",\n",
    "    \"object_name\": \"KRAS\"\n",
    "},\n",
    "\n",
    "{ \n",
    "    \"underlying_api_infores\": \"biothings-multiomics-biggim-drugresponse\",\n",
    "    \"subject_category\": \"biolink:Gene\",\n",
    "    \"subject\": \"NCBIGene:472\",\n",
    "    \"subject_name\": \"ATM\",\n",
    "    \"predicate\": \"biolink:genetically_interacts_with\",\n",
    "    \"object_category\": \"biolink:Gene\", \n",
    "    \"object\": \"NCBIGene:7157\",\n",
    "    \"object_name\": \"TP53\"\n",
    "},\n",
    "\n",
    "{ \n",
    "    \"underlying_api_infores\": \"biothings-multiomics-biggim-drugresponse\",\n",
    "    \"subject_category\": \"biolink:Gene\",\n",
    "    \"subject\": \"NCBIGene:861\",\n",
    "    \"subject_name\": \"RUNX1\",\n",
    "    \"predicate\": \"biolink:gene_associated_with_condition\",\n",
    "    \"object_category\": \"biolink:Disease\", \n",
    "    \"object\": \"MONDO:0018874\",\n",
    "    \"object_name\": \"TCGA_LAML\"\n",
    "},\n",
    "\n",
    "{\n",
    "    \"underlying_api_infores\": \"biothings-multiomics-biggim-drugresponse\",\n",
    "    \"subject_category\": \"biolink:SmallMolecule\",\n",
    "    \"subject\": \"PUBCHEM.COMPOUND:135565903\",\n",
    "    \"subject_name\": \"Venetoclax\",\n",
    "    \"predicate\": \"biolink:has_target\",\n",
    "    \"object_category\": \"biolink:Gene\", \n",
    "    \"object\": \"NCBIGene:1312\",\n",
    "    \"object_name\": \"BCL2\"\n",
    "}\n",
    "]\n",
    "\n",
    "'''\n",
    "#The following triples doesn't work out, need to follow up and check why, maybe haven't been loaded into the SmartAPI system\n",
    "query_graph= { \n",
    "    \"underlying_api_infores\": \"biothings-multiomics-biggim-drugresponse\",\n",
    "    \"subject_category\": \"biolink:Gene\",\n",
    "    \"subject\": \"NCBIGene:2719\",\n",
    "    \"subject_name\": \"GPC3\",\n",
    "    \"predicate\": \"biolink:positively_correlated_with\",\n",
    "    \"object_category\": \"biolink:Gene\", \n",
    "    \"object\": \"NCBIGene:3490\",\n",
    "    \"object_name\": \"IGFBP7\"\n",
    "},\n",
    "\n",
    "{ \n",
    "    \"underlying_api_infores\": \"biothings-multiomics-biggim-drugresponse\",\n",
    "    \"subject_category\": \"biolink:Gene\",\n",
    "    \"subject\": \"NCBIGene:100652939,\",\n",
    "    \"subject_name\": \"MTND2P28\",\n",
    "    \"predicate\": \"biolink:negatively_correlated_with\",\n",
    "    \"object_category\": \"biolink:Gene\", \n",
    "    \"object\": \"NCBIGene:710\",\n",
    "    \"object_name\": \"SERPING1\"\n",
    "}\n",
    "'''    \n",
    "\n"
   ]
  },
  {
   "cell_type": "code",
   "execution_count": 61,
   "id": "f6b589a9",
   "metadata": {},
   "outputs": [
    {
     "name": "stdout",
     "output_type": "stream",
     "text": [
      "{'nodes': {'NCBIGene:1312': {'categories': ['biolink:Gene'], 'name': 'COMT', 'attributes': [{'attribute_type_id': 'biolink:xref', 'value': ['NCBIGene:1312', 'ENSEMBL:ENSG00000093010', 'HGNC:2228', 'OMIM:116790', 'UMLS:C1135159', 'UniProtKB:A0A140VJG8', 'UniProtKB:P21964', 'PR:P21964', 'UMLS:C3850446']}, {'attribute_type_id': 'biolink:synonym', 'value': ['COMT', 'COMT gene', 'A0A140VJG8_HUMAN Catechol O-methyltransferase (trembl)', 'COMT_HUMAN Catechol O-methyltransferase (sprot)', 'catechol O-methyltransferase (human)', 'COMT protein, human']}]}, 'PUBCHEM.COMPOUND:135565903': {'categories': ['biolink:SmallMolecule'], 'name': 'Opicapone', 'attributes': [{'attribute_type_id': 'biolink:xref', 'value': ['PUBCHEM.COMPOUND:135565903', 'CHEMBL.COMPOUND:CHEMBL1089318', 'UNII:Y5929UIJ5N', 'CHEBI:134699', 'DRUGBANK:DB11632', 'MESH:C549349', 'CAS:923287-50-7', 'DrugCentral:5143', 'INCHIKEY:ASOADIZOVZTJSR-UHFFFAOYSA-N', 'UMLS:C2933913']}, {'attribute_type_id': 'biolink:synonym', 'value': ['Opicapone', 'OPICAPONE', 'opicapone', 'BIA 9-1067']}]}}, 'edges': {'035e9efb1b1e3c807199ec07d027b261': {'predicate': 'biolink:has_target', 'subject': 'PUBCHEM.COMPOUND:135565903', 'object': 'NCBIGene:1312', 'attributes': [{'attribute_type_id': 'biolink:aggregator_knowledge_source', 'value': ['infores:biothings-explorer'], 'value_type_id': 'biolink:InformationResource'}, {'attribute_type_id': 'biolink:aggregator_knowledge_source', 'value': 'infores:biothings-multiomics-biggim-drugresponse'}, {'attribute_type_id': 'biolink:knowledge_source', 'attributes': [{'attribute_type_id': 'biolink:source_infores', 'value': 'infores:drugcentral'}], 'value': 'DrugCentral'}]}}}\n"
     ]
    }
   ],
   "source": [
    "query_graph = BigGim_triples[5] # set to 0 - 5\n",
    "\n",
    "query_json = {\n",
    "    \"message\": {\n",
    "        \"query_graph\": {\n",
    "            \"nodes\": {\n",
    "                \"n0\": {\n",
    "                    \"ids\":[query_graph['subject']],\n",
    "                    \"categories\":[query_graph['subject_category']],\n",
    "                    \"name\":[query_graph['subject_name']]\n",
    "                },\n",
    "                \"n1\": {\n",
    "                    \"ids\":[query_graph['object']],\n",
    "                    \"categories\":[query_graph['object_category']],\n",
    "                    \"name\":[query_graph['object_name']]\n",
    "                    \n",
    "               }\n",
    "            },\n",
    "            \"edges\": {\n",
    "                \"e1\": {\n",
    "                    \"subject\": \"n0\",\n",
    "                    \"object\": \"n1\",\n",
    "                    \"predicates\": [query_graph['predicate']]\n",
    "                }\n",
    "            }\n",
    "        }\n",
    "    }\n",
    "}\n",
    "\n",
    "response = requests.post(BigGIM_URL,json=query_json)\n",
    "result = response.json()[\"message\"]\n",
    "print(result['knowledge_graph'])"
   ]
  },
  {
   "cell_type": "code",
   "execution_count": null,
   "id": "ef3844f5",
   "metadata": {},
   "outputs": [],
   "source": []
  }
 ],
 "metadata": {
  "kernelspec": {
   "display_name": "Python 3 (ipykernel)",
   "language": "python",
   "name": "python3"
  },
  "language_info": {
   "codemirror_mode": {
    "name": "ipython",
    "version": 3
   },
   "file_extension": ".py",
   "mimetype": "text/x-python",
   "name": "python",
   "nbconvert_exporter": "python",
   "pygments_lexer": "ipython3",
   "version": "3.10.0"
  }
 },
 "nbformat": 4,
 "nbformat_minor": 5
}
